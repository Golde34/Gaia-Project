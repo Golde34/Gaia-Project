{
 "cells": [
  {
   "cell_type": "code",
   "execution_count": 2,
   "metadata": {},
   "outputs": [],
   "source": [
    "import spacy\n",
    "from spacy.training import Example\n",
    "from spacy.training import offsets_to_biluo_tags\n",
    "import random\n",
    "import pandas as pd\n",
    "import json"
   ]
  },
  {
   "cell_type": "code",
   "execution_count": 5,
   "metadata": {},
   "outputs": [
    {
     "name": "stdout",
     "output_type": "stream",
     "text": [
      "('Please set a task in the Artemis project, about creating a user feedback system. This is an important task but not urgent.', {'entities': [(25, 32, 'PROJECT'), (48, 79, 'TASK')], 'cats': {'GROUPTASK_User service': 1, 'PRIORITY_MEDIUM': 1, 'STATUS_PENDING': 1}})\n",
      "('Create task to verify database integrity after recent updates. This is a star priority.', {'entities': [(15, 40, 'TASK')], 'cats': {'GROUPTASK_': 0, 'PRIORITY_STAR': 1, 'STATUS_IN_PROGRESS': 1}})\n",
      "('Add task to set up automated testing for backend services. This should be done by the end of the week.', {'entities': [(12, 57, 'TASK')], 'cats': {'GROUPTASK_Default': 1, 'PRIORITY_MEDIUM': 1, 'STATUS_TO_DO': 1}})\n",
      "('Generate task to design a new user interface for the dashboard in Project Gaia. This is a high priority.', {'entities': [(74, 78, 'PROJECT'), (17, 62, 'TASK')], 'cats': {'GROUPTASK_Client GUI': 1, 'PRIORITY_HIGH': 1, 'STATUS_TO_DO': 1}})\n",
      "('Please set up a task for learning a new language. No rush, just a long-term goal.', {'entities': [(25, 48, 'TASK')], 'cats': {'GROUPTASK_': 0, 'PRIORITY_LOW': 1, 'STATUS_PENDING': 1}})\n",
      "Total examples: 281\n"
     ]
    }
   ],
   "source": [
    "def process_data(file_path):\n",
    "    df = pd.read_csv(file_path, delimiter=';', encoding='utf-8')\n",
    "\n",
    "    spacy_data = []\n",
    "    count = 0\n",
    "\n",
    "    for _, row in df.iterrows():\n",
    "        sentence = row['text']\n",
    "        entities = json.loads(row['entities'])\n",
    "\n",
    "        ner_entities = []\n",
    "        textcat_labels = {}\n",
    "\n",
    "        textcat_labels['GROUPTASK'] = \"\"\n",
    "        textcat_labels['PRIORITY'] = \"\"\n",
    "        textcat_labels['STATUS'] = \"\"\n",
    "\n",
    "        for entity in entities:\n",
    "            start = int(entity['start'])\n",
    "            end = int(entity['end'])\n",
    "            label = entity['label'].strip()\n",
    "            value = entity.get('value', \"\")  \n",
    "\n",
    "            if start == 0 and end == 0:\n",
    "                if label in textcat_labels:\n",
    "                    textcat_labels[label] = value \n",
    "            else:\n",
    "                ner_entities.append((start, end, label))\n",
    "\n",
    "        annotation = {\n",
    "            \"entities\": ner_entities,  \n",
    "            \"cats\": {  \n",
    "                f\"{label}_{value}\": 1 if value else 0 for label, value in textcat_labels.items()\n",
    "            }\n",
    "        }\n",
    "\n",
    "        count += 1\n",
    "        spacy_data.append((sentence, annotation))\n",
    "\n",
    "    return spacy_data, count\n",
    "\n",
    "# Process the data\n",
    "train_data, count = process_data('../../../data_lake/task_detection/spacy_dataset.csv')\n",
    "\n",
    "# Print the first few examples and count of processed data\n",
    "for data in train_data[:5]:\n",
    "    print(data)\n",
    "print(f\"Total examples: {count}\")"
   ]
  },
  {
   "cell_type": "code",
   "execution_count": 6,
   "metadata": {},
   "outputs": [
    {
     "name": "stderr",
     "output_type": "stream",
     "text": [
      "/home/golde/miniconda3/envs/deeplearning/lib/python3.10/site-packages/spacy/training/iob_utils.py:149: UserWarning: [W030] Some entities could not be aligned in the text \"Create a task for integrating advanced AI algorith...\" with entities \"[(66, 71, 'PROJECT'), (18, 52, 'TASK')]\". Use `spacy.training.offsets_to_biluo_tags(nlp.make_doc(text), entities)` to check the alignment. Misaligned entities ('-') will be ignored during training.\n",
      "  warnings.warn(\n",
      "/home/golde/miniconda3/envs/deeplearning/lib/python3.10/site-packages/spacy/training/iob_utils.py:149: UserWarning: [W030] Some entities could not be aligned in the text \"Please generate task for adding user profile custo...\" with entities \"[(78, 83, 'PROJECT'), (25, 66, 'TASK')]\". Use `spacy.training.offsets_to_biluo_tags(nlp.make_doc(text), entities)` to check the alignment. Misaligned entities ('-') will be ignored during training.\n",
      "  warnings.warn(\n",
      "/home/golde/miniconda3/envs/deeplearning/lib/python3.10/site-packages/spacy/training/iob_utils.py:149: UserWarning: [W030] Some entities could not be aligned in the text \"Optimize performance for Project Gaia’s data proce...\" with entities \"[(33, 38, 'PROJECT'), (0, 20, 'TASK')]\". Use `spacy.training.offsets_to_biluo_tags(nlp.make_doc(text), entities)` to check the alignment. Misaligned entities ('-') will be ignored during training.\n",
      "  warnings.warn(\n",
      "/home/golde/miniconda3/envs/deeplearning/lib/python3.10/site-packages/spacy/training/iob_utils.py:149: UserWarning: [W030] Some entities could not be aligned in the text \"Set up a task to optimize AI model performance for...\" with entities \"[(59, 64, 'PROJECT'), (17, 46, 'TASK')]\". Use `spacy.training.offsets_to_biluo_tags(nlp.make_doc(text), entities)` to check the alignment. Misaligned entities ('-') will be ignored during training.\n",
      "  warnings.warn(\n",
      "/home/golde/miniconda3/envs/deeplearning/lib/python3.10/site-packages/spacy/training/iob_utils.py:149: UserWarning: [W030] Some entities could not be aligned in the text \"Please generate task for developing a custom widge...\" with entities \"[(86, 91, 'PROJECT'), (25, 74, 'TASK')]\". Use `spacy.training.offsets_to_biluo_tags(nlp.make_doc(text), entities)` to check the alignment. Misaligned entities ('-') will be ignored during training.\n",
      "  warnings.warn(\n",
      "/home/golde/miniconda3/envs/deeplearning/lib/python3.10/site-packages/spacy/training/iob_utils.py:149: UserWarning: [W030] Some entities could not be aligned in the text \"Implement a new service for supporting interactive...\" with entities \"[(69, 74, 'PROJECT'), (0, 57, 'TASK')]\". Use `spacy.training.offsets_to_biluo_tags(nlp.make_doc(text), entities)` to check the alignment. Misaligned entities ('-') will be ignored during training.\n",
      "  warnings.warn(\n",
      "/home/golde/miniconda3/envs/deeplearning/lib/python3.10/site-packages/spacy/training/iob_utils.py:149: UserWarning: [W030] Some entities could not be aligned in the text \"Create task to develop a new form validation featu...\" with entities \"[(65, 70, 'PROJECT'), (15, 52, 'TASK')]\". Use `spacy.training.offsets_to_biluo_tags(nlp.make_doc(text), entities)` to check the alignment. Misaligned entities ('-') will be ignored during training.\n",
      "  warnings.warn(\n",
      "/home/golde/miniconda3/envs/deeplearning/lib/python3.10/site-packages/spacy/training/iob_utils.py:149: UserWarning: [W030] Some entities could not be aligned in the text \"Deploy updates in Project Gaia’s staging environme...\" with entities \"[(26, 31, 'PROJECT'), (0, 14, 'TASK')]\". Use `spacy.training.offsets_to_biluo_tags(nlp.make_doc(text), entities)` to check the alignment. Misaligned entities ('-') will be ignored during training.\n",
      "  warnings.warn(\n",
      "/home/golde/miniconda3/envs/deeplearning/lib/python3.10/site-packages/spacy/training/iob_utils.py:149: UserWarning: [W030] Some entities could not be aligned in the text \"Add a task to deploy updates for AI features in Pr...\" with entities \"[(56, 61, 'PROJECT'), (14, 44, 'TASK')]\". Use `spacy.training.offsets_to_biluo_tags(nlp.make_doc(text), entities)` to check the alignment. Misaligned entities ('-') will be ignored during training.\n",
      "  warnings.warn(\n",
      "/home/golde/miniconda3/envs/deeplearning/lib/python3.10/site-packages/spacy/training/iob_utils.py:149: UserWarning: [W030] Some entities could not be aligned in the text \"Generate task to create a feature for live chat su...\" with entities \"[(67, 72, 'PROJECT'), (17, 55, 'TASK')]\". Use `spacy.training.offsets_to_biluo_tags(nlp.make_doc(text), entities)` to check the alignment. Misaligned entities ('-') will be ignored during training.\n",
      "  warnings.warn(\n",
      "/home/golde/miniconda3/envs/deeplearning/lib/python3.10/site-packages/spacy/training/iob_utils.py:149: UserWarning: [W030] Some entities could not be aligned in the text \"Develop a user notification system for Project Gai...\" with entities \"[(47, 52, 'PROJECT'), (0, 34, 'TASK')]\". Use `spacy.training.offsets_to_biluo_tags(nlp.make_doc(text), entities)` to check the alignment. Misaligned entities ('-') will be ignored during training.\n",
      "  warnings.warn(\n",
      "/home/golde/miniconda3/envs/deeplearning/lib/python3.10/site-packages/spacy/training/iob_utils.py:149: UserWarning: [W030] Some entities could not be aligned in the text \"Deploy updates for task manager features in Projec...\" with entities \"[(52, 57, 'PROJECT'), (0, 40, 'TASK')]\". Use `spacy.training.offsets_to_biluo_tags(nlp.make_doc(text), entities)` to check the alignment. Misaligned entities ('-') will be ignored during training.\n",
      "  warnings.warn(\n",
      "/home/golde/miniconda3/envs/deeplearning/lib/python3.10/site-packages/spacy/training/iob_utils.py:149: UserWarning: [W030] Some entities could not be aligned in the text \"Generate task to optimize AI model performance for...\" with entities \"[(59, 64, 'PROJECT'), (17, 46, 'TASK')]\". Use `spacy.training.offsets_to_biluo_tags(nlp.make_doc(text), entities)` to check the alignment. Misaligned entities ('-') will be ignored during training.\n",
      "  warnings.warn(\n",
      "/home/golde/miniconda3/envs/deeplearning/lib/python3.10/site-packages/spacy/training/iob_utils.py:149: UserWarning: [W030] Some entities could not be aligned in the text \"Redesign the routing system for Project Gaia’s fro...\" with entities \"[(40, 45, 'PROJECT'), (0, 27, 'TASK')]\". Use `spacy.training.offsets_to_biluo_tags(nlp.make_doc(text), entities)` to check the alignment. Misaligned entities ('-') will be ignored during training.\n",
      "  warnings.warn(\n"
     ]
    },
    {
     "name": "stdout",
     "output_type": "stream",
     "text": [
      "Epoch 1: Losses: {'ner': 1115.930023634683, 'textcat_multilabel': 1.6346015488893642}\n",
      "Epoch 2: Losses: {'ner': 496.73723774769115, 'textcat_multilabel': 0.1762707298595778}\n",
      "Epoch 3: Losses: {'ner': 336.0562123121512, 'textcat_multilabel': 0.04104975613383677}\n",
      "Epoch 4: Losses: {'ner': 281.70593125308613, 'textcat_multilabel': 0.006272310473462661}\n",
      "Epoch 5: Losses: {'ner': 248.94516064022727, 'textcat_multilabel': 0.002309878889170891}\n",
      "Epoch 6: Losses: {'ner': 189.383872291942, 'textcat_multilabel': 0.0013084855720717492}\n",
      "Epoch 7: Losses: {'ner': 154.37318064993406, 'textcat_multilabel': 0.004812918466078092}\n",
      "Epoch 8: Losses: {'ner': 169.2615321074054, 'textcat_multilabel': 0.000780904955793249}\n",
      "Epoch 9: Losses: {'ner': 136.39673239960416, 'textcat_multilabel': 0.00029238772763950927}\n",
      "Epoch 10: Losses: {'ner': 136.01975117628615, 'textcat_multilabel': 0.00037582925267298783}\n",
      "Epoch 11: Losses: {'ner': 139.7526450939215, 'textcat_multilabel': 0.0003688929898848503}\n",
      "Epoch 12: Losses: {'ner': 119.07632099781173, 'textcat_multilabel': 0.00032641177753564565}\n",
      "Epoch 13: Losses: {'ner': 117.93307586953831, 'textcat_multilabel': 0.0001998840305577343}\n",
      "Epoch 14: Losses: {'ner': 91.6562625760661, 'textcat_multilabel': 0.00040931941007263384}\n",
      "Epoch 15: Losses: {'ner': 79.74866423612505, 'textcat_multilabel': 0.00021712459435475895}\n",
      "Epoch 16: Losses: {'ner': 76.70567787193983, 'textcat_multilabel': 0.00011151912261745875}\n",
      "Epoch 17: Losses: {'ner': 49.74989821350996, 'textcat_multilabel': 0.00011088004002127172}\n",
      "Epoch 18: Losses: {'ner': 74.95608855645075, 'textcat_multilabel': 0.00011596945122051977}\n",
      "Epoch 19: Losses: {'ner': 80.32835638556135, 'textcat_multilabel': 0.00010354169322537854}\n",
      "Epoch 20: Losses: {'ner': 80.11872397470202, 'textcat_multilabel': 0.00010768260495637623}\n"
     ]
    }
   ],
   "source": [
    "import spacy\n",
    "from spacy.training import Example\n",
    "import random\n",
    "\n",
    "nlp = spacy.blank(\"en\")\n",
    "ner = nlp.add_pipe(\"ner\")\n",
    "textcat = nlp.add_pipe(\"textcat_multilabel\", last=True)\n",
    "\n",
    "for _, annotations in train_data:\n",
    "    for ent in annotations[\"entities\"]:\n",
    "        ner.add_label(ent[2])  \n",
    "    for cat in annotations[\"cats\"]:\n",
    "        textcat.add_label(cat)\n",
    "\n",
    "optimizer = nlp.begin_training()\n",
    "\n",
    "for i in range(20):\n",
    "    random.shuffle(train_data)\n",
    "    losses = {}\n",
    "    for text, annotations in train_data:\n",
    "        doc = nlp.make_doc(text)\n",
    "        example = Example.from_dict(doc, annotations)\n",
    "        nlp.update([example], losses=losses, drop=0.5, sgd=optimizer)\n",
    "\n",
    "    print(f\"Epoch {i + 1}: Losses: {losses}\")\n",
    "\n",
    "nlp.to_disk(\"spacy_model_v2\")"
   ]
  },
  {
   "cell_type": "code",
   "execution_count": 7,
   "metadata": {},
   "outputs": [
    {
     "name": "stdout",
     "output_type": "stream",
     "text": [
      "Entities: [('testing the system', 'TASK')]\n",
      "Categories: {'GROUPTASK_User service': 0.9993239641189575, 'PRIORITY_MEDIUM': 0.9998352527618408, 'STATUS_PENDING': 0.9999353885650635, 'GROUPTASK_': 0.00028058310272172093, 'PRIORITY_STAR': 0.999931812286377, 'STATUS_IN_PROGRESS': 0.9998117089271545, 'GROUPTASK_Default': 0.9999080896377563, 'STATUS_TO_DO': 0.9999778270721436, 'GROUPTASK_Client GUI': 0.9998099207878113, 'PRIORITY_HIGH': 0.9998894929885864, 'PRIORITY_LOW': 0.9998779296875, 'GROUPTASK_AI Models': 0.9998167157173157, 'GROUPTASK_Do Chores': 0.9997547268867493, 'GROUPTASK_Task Manager': 0.998389482498169, 'GROUPTASK_Frontend': 0.9994639754295349, 'GROUPTASK_Data Processing': 0.9997314810752869, 'GROUPTASK_UI Module': 0.9981817007064819, 'GROUPTASK_GaiaBot': 0.9980140924453735, 'GROUPTASK_Deployment': 0.9996824264526367, 'GROUPTASK_Authentication Module': 0.9993554949760437, 'GROUPTASK_Middleware Loader': 0.9996144771575928, 'GROUPTASK_Auth Service': 0.9999626874923706, 'GROUPTASK_User Interaction': 0.9997270703315735, 'GROUPTASK_Security Module': 0.9994600415229797, 'GROUPTASK_Real-time Logging': 0.9973586201667786, 'PRIORITY_': 0.0014373924350365996, 'GROUPTASK_Backend Management': 0.9981233477592468, 'GROUPTASK_Monitoring': 0.9998111128807068, 'GROUPTASK_Error Handling': 0.9992420673370361, 'GROUPTASK_Optimization': 0.9998513460159302, 'STATUS_DONE': 0.9969022274017334, 'GROUPTASK_Testing': 0.9981707334518433, 'GROUPTASK_Interactive Charts': 0.9992533326148987, 'GROUPTASK_Marketing': 0.9991821646690369, 'GROUPTASK_Recommendation Engine': 0.9992648959159851, 'GROUPTASK_Responsive Design': 0.9987493753433228, 'GROUPTASK_Payment Processing': 0.9970393180847168, 'GROUPTASK_Backend': 0.9976054430007935, 'GROUPTASK_Document': 0.9997084736824036}\n"
     ]
    }
   ],
   "source": [
    "nlp2 = spacy.load(\"spacy_model_v2\")\n",
    "\n",
    "test_text = \"Please set up a task for testing the system.\"\n",
    "doc = nlp2(test_text)\n",
    "\n",
    "print(\"Entities:\", [(ent.text, ent.label_) for ent in doc.ents])\n",
    "print(\"Categories:\", doc.cats)"
   ]
  },
  {
   "cell_type": "code",
   "execution_count": 10,
   "metadata": {},
   "outputs": [
    {
     "name": "stdout",
     "output_type": "stream",
     "text": [
      "Entities: [('enhance the existing AI models with new algorithms', 14, 64, 'TASK'), ('Gaia', 77, 81, 'PROJECT')]\n",
      "Categories: {'GROUPTASK_User service': 0.9985288381576538, 'PRIORITY_MEDIUM': 0.9997768998146057, 'STATUS_PENDING': 0.9999303817749023, 'GROUPTASK_': 0.0002279213658766821, 'PRIORITY_STAR': 0.9999634027481079, 'STATUS_IN_PROGRESS': 0.9999028444290161, 'GROUPTASK_Default': 0.9998905658721924, 'STATUS_TO_DO': 0.9999815225601196, 'GROUPTASK_Client GUI': 0.9998151659965515, 'PRIORITY_HIGH': 0.999950647354126, 'PRIORITY_LOW': 0.99989914894104, 'GROUPTASK_AI Models': 0.9998140931129456, 'GROUPTASK_Do Chores': 0.9997325539588928, 'GROUPTASK_Task Manager': 0.9993065595626831, 'GROUPTASK_Frontend': 0.9994542002677917, 'GROUPTASK_Data Processing': 0.9995761513710022, 'GROUPTASK_UI Module': 0.9990614056587219, 'GROUPTASK_GaiaBot': 0.9982213377952576, 'GROUPTASK_Deployment': 0.9997441172599792, 'GROUPTASK_Authentication Module': 0.99957674741745, 'GROUPTASK_Middleware Loader': 0.9998395442962646, 'GROUPTASK_Auth Service': 0.999963641166687, 'GROUPTASK_User Interaction': 0.9997574687004089, 'GROUPTASK_Security Module': 0.9994544386863708, 'GROUPTASK_Real-time Logging': 0.9978512525558472, 'PRIORITY_': 0.001257541123777628, 'GROUPTASK_Backend Management': 0.9990088939666748, 'GROUPTASK_Monitoring': 0.999749481678009, 'GROUPTASK_Error Handling': 0.999333918094635, 'GROUPTASK_Optimization': 0.9999418258666992, 'STATUS_DONE': 0.9976869821548462, 'GROUPTASK_Testing': 0.9979064464569092, 'GROUPTASK_Interactive Charts': 0.9987272620201111, 'GROUPTASK_Marketing': 0.9993273019790649, 'GROUPTASK_Recommendation Engine': 0.9994503855705261, 'GROUPTASK_Responsive Design': 0.9988228678703308, 'GROUPTASK_Payment Processing': 0.9978255033493042, 'GROUPTASK_Backend': 0.9979214072227478, 'GROUPTASK_Document': 0.9994959831237793}\n"
     ]
    }
   ],
   "source": [
    "def load_and_predict(model_path, text):\n",
    "    nlp = spacy.load(model_path)\n",
    "    doc = nlp(text)\n",
    "    \n",
    "    entities = [(ent.text, ent.start_char, ent.end_char, ent.label_) for ent in doc.ents]\n",
    "    categories = {cat: score for cat, score in doc.cats.items()}\n",
    "    \n",
    "    return entities, categories\n",
    "\n",
    "model_path = \"spacy_model_v2\" \n",
    "text = \"Add a task to enhance the existing AI models with new algorithms for Project Gaia. This is a high priority.\"\n",
    "\n",
    "entities, categories = load_and_predict(model_path, text)\n",
    "\n",
    "print(\"Entities:\", entities)\n",
    "print(\"Categories:\", categories)"
   ]
  }
 ],
 "metadata": {
  "kernelspec": {
   "display_name": "deeplearning",
   "language": "python",
   "name": "python3"
  },
  "language_info": {
   "codemirror_mode": {
    "name": "ipython",
    "version": 3
   },
   "file_extension": ".py",
   "mimetype": "text/x-python",
   "name": "python",
   "nbconvert_exporter": "python",
   "pygments_lexer": "ipython3",
   "version": "3.10.14"
  }
 },
 "nbformat": 4,
 "nbformat_minor": 2
}
