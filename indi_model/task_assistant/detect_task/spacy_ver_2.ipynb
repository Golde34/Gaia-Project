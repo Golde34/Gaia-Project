{
 "cells": [
  {
   "cell_type": "code",
   "execution_count": 42,
   "metadata": {},
   "outputs": [],
   "source": [
    "import spacy\n",
    "from spacy.training import Example\n",
    "from spacy.training import offsets_to_biluo_tags\n",
    "import random\n",
    "import pandas as pd\n",
    "import json"
   ]
  },
  {
   "cell_type": "code",
   "execution_count": 43,
   "metadata": {},
   "outputs": [
    {
     "name": "stdout",
     "output_type": "stream",
     "text": [
      "('Please set a task in the Artemis project, about creating a user feedback system. This is an important task but not urgent.', {'entities': [(25, 32, 'PROJECT'), (48, 79, 'TASK')], 'cats': {'PRIORITY_MEDIUM': 1, 'STATUS_PENDING': 1}})\n",
      "('Create task to verify database integrity after recent updates. This is a star priority.', {'entities': [(15, 40, 'TASK')], 'cats': {'PRIORITY_STAR': 1, 'STATUS_IN_PROGRESS': 1}})\n",
      "('Add task to set up automated testing for backend services. This should be done by the end of the week.', {'entities': [(12, 57, 'TASK')], 'cats': {'PRIORITY_MEDIUM': 1, 'STATUS_TO_DO': 1}})\n",
      "('Generate task to design a new user interface for the dashboard in Project Gaia. This is a high priority.', {'entities': [(74, 78, 'PROJECT'), (17, 62, 'TASK')], 'cats': {'PRIORITY_HIGH': 1, 'STATUS_TO_DO': 1}})\n",
      "('Please set up a task for learning a new language. No rush, just a long-term goal.', {'entities': [(25, 48, 'TASK')], 'cats': {'PRIORITY_LOW': 1, 'STATUS_PENDING': 1}})\n",
      "Total examples: 281\n"
     ]
    }
   ],
   "source": [
    "def process_data(file_path):\n",
    "    df = pd.read_csv(file_path, delimiter=';', encoding='utf-8')\n",
    "\n",
    "    spacy_data = []\n",
    "    count = 0\n",
    "\n",
    "    for _, row in df.iterrows():\n",
    "        sentence = row['text']\n",
    "        entities = json.loads(row['entities'])\n",
    "\n",
    "        ner_entities = []\n",
    "        textcat_labels = {}\n",
    "\n",
    "        textcat_labels['PRIORITY'] = \"\"\n",
    "        textcat_labels['STATUS'] = \"\"\n",
    "\n",
    "        for entity in entities:\n",
    "            start = int(entity['start'])\n",
    "            end = int(entity['end'])\n",
    "            label = entity['label'].strip()\n",
    "            value = entity.get('value', \"\")  \n",
    "\n",
    "            if start == 0 and end == 0:\n",
    "                if label in textcat_labels:\n",
    "                    textcat_labels[label] = value \n",
    "            else:\n",
    "                ner_entities.append((start, end, label))\n",
    "\n",
    "        annotation = {\n",
    "            \"entities\": ner_entities,  \n",
    "            \"cats\": {  \n",
    "                f\"{label}_{value}\": 1 if value else 0 for label, value in textcat_labels.items()\n",
    "            }\n",
    "        }\n",
    "\n",
    "        count += 1\n",
    "        spacy_data.append((sentence, annotation))\n",
    "\n",
    "    return spacy_data, count\n",
    "\n",
    "# Process the data\n",
    "train_data, count = process_data('../../../data_lake/task_detection/spacy_dataset.csv')\n",
    "\n",
    "# Print the first few examples and count of processed data\n",
    "for data in train_data[:5]:\n",
    "    print(data)\n",
    "print(f\"Total examples: {count}\")"
   ]
  },
  {
   "cell_type": "code",
   "execution_count": 47,
   "metadata": {},
   "outputs": [
    {
     "name": "stdout",
     "output_type": "stream",
     "text": [
      "Epoch 1: Losses: {'ner': 755.7973169488483, 'textcat_multilabel': 2.2696111658036546}\n",
      "Epoch 2: Losses: {'ner': 201.97208759183647, 'textcat_multilabel': 0.09191292275275575}\n",
      "Epoch 3: Losses: {'ner': 137.51958458608257, 'textcat_multilabel': 0.003470079510181634}\n",
      "Epoch 4: Losses: {'ner': 91.53255220237193, 'textcat_multilabel': 0.0017052617983877028}\n",
      "Epoch 5: Losses: {'ner': 67.49376039872207, 'textcat_multilabel': 0.0010146842869471762}\n",
      "Epoch 6: Losses: {'ner': 96.82468198948, 'textcat_multilabel': 0.0010588860607567696}\n",
      "Epoch 7: Losses: {'ner': 76.08149513440544, 'textcat_multilabel': 0.0007905326695947235}\n",
      "Epoch 8: Losses: {'ner': 63.49648154255618, 'textcat_multilabel': 0.00048349265901971583}\n",
      "Epoch 9: Losses: {'ner': 62.53243636484623, 'textcat_multilabel': 0.0002756125669575171}\n",
      "Epoch 10: Losses: {'ner': 59.34816740617382, 'textcat_multilabel': 0.00048213797337115505}\n",
      "Epoch 11: Losses: {'ner': 43.14812901160647, 'textcat_multilabel': 0.00021596597731210476}\n",
      "Epoch 12: Losses: {'ner': 51.03961188639256, 'textcat_multilabel': 0.00029528614987073265}\n",
      "Epoch 13: Losses: {'ner': 57.13781292498725, 'textcat_multilabel': 0.0002109968888680258}\n",
      "Epoch 14: Losses: {'ner': 38.46467804597978, 'textcat_multilabel': 0.00029681782028934123}\n",
      "Epoch 15: Losses: {'ner': 41.8136311326115, 'textcat_multilabel': 8.708870123191881e-05}\n",
      "Epoch 16: Losses: {'ner': 61.96952946369377, 'textcat_multilabel': 7.740055790106393e-05}\n",
      "Epoch 17: Losses: {'ner': 49.15152751384287, 'textcat_multilabel': 8.478970031722266e-05}\n",
      "Epoch 18: Losses: {'ner': 43.91692609565626, 'textcat_multilabel': 7.920356083251923e-05}\n",
      "Epoch 19: Losses: {'ner': 44.53932499637951, 'textcat_multilabel': 7.778853670545316e-05}\n",
      "Epoch 20: Losses: {'ner': 34.46870668435841, 'textcat_multilabel': 5.980695348729165e-05}\n"
     ]
    }
   ],
   "source": [
    "import spacy\n",
    "from spacy.training import Example\n",
    "import random\n",
    "\n",
    "nlp = spacy.blank(\"en\")\n",
    "ner = nlp.add_pipe(\"ner\")\n",
    "textcat = nlp.add_pipe(\"textcat_multilabel\", last=True)\n",
    "\n",
    "for _, annotations in train_data:\n",
    "    for ent in annotations[\"entities\"]:\n",
    "        ner.add_label(ent[2])  \n",
    "    for cat in annotations[\"cats\"]:\n",
    "        textcat.add_label(cat)\n",
    "\n",
    "optimizer = nlp.begin_training()\n",
    "\n",
    "for i in range(20):\n",
    "    random.shuffle(train_data)\n",
    "    losses = {}\n",
    "    for text, annotations in train_data:\n",
    "        doc = nlp.make_doc(text)\n",
    "        example = Example.from_dict(doc, annotations)\n",
    "        nlp.update([example], losses=losses, drop=0.2, sgd=optimizer)\n",
    "\n",
    "    print(f\"Epoch {i + 1}: Losses: {losses}\")\n",
    "\n",
    "nlp.to_disk(\"spacy_model_v2\")"
   ]
  },
  {
   "cell_type": "code",
   "execution_count": 48,
   "metadata": {},
   "outputs": [
    {
     "name": "stdout",
     "output_type": "stream",
     "text": [
      "Entities: [('testing the system', 'TASK')]\n",
      "Categories: {'PRIORITY_HIGH': 0.9998562335968018, 'STATUS_TO_DO': 0.9998817443847656, 'PRIORITY_MEDIUM': 0.9994654059410095, 'STATUS_IN_PROGRESS': 0.9997088313102722, 'PRIORITY_STAR': 0.9982501864433289, 'PRIORITY_LOW': 0.9989975094795227, 'STATUS_PENDING': 0.999580442905426, 'STATUS_DONE': 0.9763979911804199, 'PRIORITY_': 0.002389561152085662}\n"
     ]
    }
   ],
   "source": [
    "nlp2 = spacy.load(\"spacy_model_v2\")\n",
    "\n",
    "test_text = \"Please set up a task for testing the system.\"\n",
    "doc = nlp2(test_text)\n",
    "\n",
    "print(\"Entities:\", [(ent.text, ent.label_) for ent in doc.ents])\n",
    "print(\"Categories:\", doc.cats)"
   ]
  },
  {
   "cell_type": "code",
   "execution_count": 53,
   "metadata": {},
   "outputs": [
    {
     "name": "stdout",
     "output_type": "stream",
     "text": [
      "Entities: [('implement feature engineering techniques', 17, 57, 'TASK'), ('Golde', 85, 90, 'PROJECT')]\n",
      "Categories: {'PRIORITY_HIGH': 0.9998356103897095, 'STATUS_TO_DO': 0.9999051094055176, 'PRIORITY_MEDIUM': 0.9998780488967896, 'STATUS_IN_PROGRESS': 0.9997349381446838, 'PRIORITY_STAR': 0.9960325360298157, 'PRIORITY_LOW': 0.9989074468612671, 'STATUS_PENDING': 0.9996355772018433, 'STATUS_DONE': 0.986890971660614, 'PRIORITY_': 0.004381465259939432}\n"
     ]
    }
   ],
   "source": [
    "def load_and_predict(model_path, text):\n",
    "    nlp = spacy.load(model_path)\n",
    "    doc = nlp(text)\n",
    "    \n",
    "    entities = [(ent.text, ent.start_char, ent.end_char, ent.label_) for ent in doc.ents]\n",
    "    categories = {cat: score for cat, score in doc.cats.items()}\n",
    "    \n",
    "    return entities, categories\n",
    "\n",
    "model_path = \"spacy_model_v2\" \n",
    "text = \"Create a task to implement feature engineering techniques for Golde Model in Project Golde. This should be done within the month.\"\n",
    "\n",
    "entities, categories = load_and_predict(model_path, text)\n",
    "\n",
    "print(\"Entities:\", entities)\n",
    "print(\"Categories:\", categories)"
   ]
  }
 ],
 "metadata": {
  "kernelspec": {
   "display_name": "deeplearning",
   "language": "python",
   "name": "python3"
  },
  "language_info": {
   "codemirror_mode": {
    "name": "ipython",
    "version": 3
   },
   "file_extension": ".py",
   "mimetype": "text/x-python",
   "name": "python",
   "nbconvert_exporter": "python",
   "pygments_lexer": "ipython3",
   "version": "3.10.14"
  }
 },
 "nbformat": 4,
 "nbformat_minor": 2
}
