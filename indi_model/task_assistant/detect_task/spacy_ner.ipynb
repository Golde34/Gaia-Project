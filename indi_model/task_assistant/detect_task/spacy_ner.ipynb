{
 "cells": [
  {
   "cell_type": "code",
   "execution_count": 1,
   "metadata": {},
   "outputs": [],
   "source": [
    "import spacy\n",
    "from spacy.training import Example\n",
    "from spacy.util import minibatch, compounding\n",
    "import random\n",
    "import pandas as pd\n",
    "import json"
   ]
  },
  {
   "cell_type": "code",
   "execution_count": 6,
   "metadata": {},
   "outputs": [
    {
     "name": "stdout",
     "output_type": "stream",
     "text": [
      "('Please set a task in the Artemis project, about creating a user feedback system. This is an important task but not urgent.', {'entities': [(25, 32, 'PROJECT'), (48, 79, 'TASK')], 'cats': {'GROUPTASK': 1, 'MEDIUM': 1, 'PENDING': 1}})\n",
      "('Create task to verify database integrity after recent updates. This is a star priority.', {'entities': [(15, 40, 'TASK')], 'cats': {'STAR': 1, 'IN_PROGRESS': 1, 'STARTDATE': 1}})\n",
      "('Add task to set up automated testing for backend services. This should be done by the end of the week.', {'entities': [(12, 57, 'TASK')], 'cats': {'GROUPTASK': 1, 'MEDIUM': 1, 'UNKNOWN': 1, 'STARTDATE': 1, 'DEADLINE': 1}})\n",
      "('Generate task to design a new user interface for the dashboard in Project Gaia. This is a high priority.', {'entities': [(74, 78, 'PROJECT'), (17, 62, 'TASK')], 'cats': {'GROUPTASK': 1, 'UNKNOWN': 1, 'STARTDATE': 1}})\n",
      "('Please set up a task for learning a new language. No rush, just a long-term goal.', {'entities': [(25, 48, 'TASK')], 'cats': {'LOW': 1, 'PENDING': 1}})\n",
      "5\n"
     ]
    }
   ],
   "source": [
    "# Load dataset\n",
    "def process_csv_for_spacy(file_path):\n",
    "    df = pd.read_csv(file_path)\n",
    "\n",
    "    spacy_data = []\n",
    "    count = 0\n",
    "\n",
    "    for _, row in df.iterrows():\n",
    "        sentence = row['text']\n",
    "        entities = json.loads(row['entities'])\n",
    "\n",
    "        # Tạo các danh sách cho NER và textcat\n",
    "        ner_entities = []\n",
    "        textcat_labels = {}\n",
    "\n",
    "        for entity in entities:\n",
    "            start = int(entity['start'])\n",
    "            end = int(entity['end'])\n",
    "            label = entity['label']\n",
    "\n",
    "            if start == 0 and end == 0:\n",
    "                # Đây là textcat\n",
    "                textcat_labels[label] = 1\n",
    "            else:\n",
    "                # Đây là NER\n",
    "                ner_entities.append((start, end, label))\n",
    "\n",
    "        # Tạo annotation phù hợp với spaCy\n",
    "        annotation = {\n",
    "            \"entities\": ner_entities,\n",
    "            \"cats\": textcat_labels\n",
    "        }\n",
    "        count \n",
    "\n",
    "        spacy_data.append((sentence, annotation))\n",
    "\n",
    "    return spacy_data, count\n",
    "\n",
    "train_data = process_csv_for_spacy('spacy_dataset.csv')\n",
    "\n",
    "count = 0\n",
    "for data in train_data[:5]:\n",
    "    count += 1\n",
    "    print(data)\n",
    "\n",
    "print(count)"
   ]
  },
  {
   "cell_type": "code",
   "execution_count": 8,
   "metadata": {},
   "outputs": [
    {
     "name": "stderr",
     "output_type": "stream",
     "text": [
      "/home/golde/miniconda3/envs/deeplearning/lib/python3.10/site-packages/spacy/training/iob_utils.py:149: UserWarning: [W030] Some entities could not be aligned in the text \"Generate task to optimize AI model performance for...\" with entities \"[(59, 64, 'PROJECT'), (17, 46, 'TASK')]\". Use `spacy.training.offsets_to_biluo_tags(nlp.make_doc(text), entities)` to check the alignment. Misaligned entities ('-') will be ignored during training.\n",
      "  warnings.warn(\n",
      "/home/golde/miniconda3/envs/deeplearning/lib/python3.10/site-packages/spacy/training/iob_utils.py:149: UserWarning: [W030] Some entities could not be aligned in the text \"Please generate task for adding user profile custo...\" with entities \"[(78, 83, 'PROJECT'), (25, 66, 'TASK')]\". Use `spacy.training.offsets_to_biluo_tags(nlp.make_doc(text), entities)` to check the alignment. Misaligned entities ('-') will be ignored during training.\n",
      "  warnings.warn(\n",
      "/home/golde/miniconda3/envs/deeplearning/lib/python3.10/site-packages/spacy/training/iob_utils.py:149: UserWarning: [W030] Some entities could not be aligned in the text \"Create task to develop a new form validation featu...\" with entities \"[(65, 70, 'PROJECT'), (15, 52, 'TASK')]\". Use `spacy.training.offsets_to_biluo_tags(nlp.make_doc(text), entities)` to check the alignment. Misaligned entities ('-') will be ignored during training.\n",
      "  warnings.warn(\n",
      "/home/golde/miniconda3/envs/deeplearning/lib/python3.10/site-packages/spacy/training/iob_utils.py:149: UserWarning: [W030] Some entities could not be aligned in the text \"Create task to redesign the navigation menu for Pr...\" with entities \"[(56, 61, 'PROJECT'), (15, 43, 'TASK')]\". Use `spacy.training.offsets_to_biluo_tags(nlp.make_doc(text), entities)` to check the alignment. Misaligned entities ('-') will be ignored during training.\n",
      "  warnings.warn(\n",
      "/home/golde/miniconda3/envs/deeplearning/lib/python3.10/site-packages/spacy/training/iob_utils.py:149: UserWarning: [W030] Some entities could not be aligned in the text \"Add a task to deploy updates for AI features in Pr...\" with entities \"[(56, 61, 'PROJECT')]\". Use `spacy.training.offsets_to_biluo_tags(nlp.make_doc(text), entities)` to check the alignment. Misaligned entities ('-') will be ignored during training.\n",
      "  warnings.warn(\n",
      "/home/golde/miniconda3/envs/deeplearning/lib/python3.10/site-packages/spacy/training/iob_utils.py:149: UserWarning: [W030] Some entities could not be aligned in the text \"Generate task to add a feature for live chat suppo...\" with entities \"[(64, 69, 'PROJECT')]\". Use `spacy.training.offsets_to_biluo_tags(nlp.make_doc(text), entities)` to check the alignment. Misaligned entities ('-') will be ignored during training.\n",
      "  warnings.warn(\n",
      "/home/golde/miniconda3/envs/deeplearning/lib/python3.10/site-packages/spacy/training/iob_utils.py:149: UserWarning: [W030] Some entities could not be aligned in the text \"Add task to deploy updates for AI features in Proj...\" with entities \"[(54, 59, 'PROJECT')]\". Use `spacy.training.offsets_to_biluo_tags(nlp.make_doc(text), entities)` to check the alignment. Misaligned entities ('-') will be ignored during training.\n",
      "  warnings.warn(\n",
      "/home/golde/miniconda3/envs/deeplearning/lib/python3.10/site-packages/spacy/training/iob_utils.py:149: UserWarning: [W030] Some entities could not be aligned in the text \"Create a task for integrating advanced AI algorith...\" with entities \"[(66, 71, 'PROJECT'), (18, 52, 'TASK')]\". Use `spacy.training.offsets_to_biluo_tags(nlp.make_doc(text), entities)` to check the alignment. Misaligned entities ('-') will be ignored during training.\n",
      "  warnings.warn(\n",
      "/home/golde/miniconda3/envs/deeplearning/lib/python3.10/site-packages/spacy/training/iob_utils.py:149: UserWarning: [W030] Some entities could not be aligned in the text \"Add task to create a new user onboarding flow for ...\" with entities \"[(58, 63, 'PROJECT'), (12, 45, 'TASK')]\". Use `spacy.training.offsets_to_biluo_tags(nlp.make_doc(text), entities)` to check the alignment. Misaligned entities ('-') will be ignored during training.\n",
      "  warnings.warn(\n",
      "/home/golde/miniconda3/envs/deeplearning/lib/python3.10/site-packages/spacy/training/iob_utils.py:149: UserWarning: [W030] Some entities could not be aligned in the text \"Generate task to implement a new feature for inter...\" with entities \"[(75, 80, 'PROJECT')]\". Use `spacy.training.offsets_to_biluo_tags(nlp.make_doc(text), entities)` to check the alignment. Misaligned entities ('-') will be ignored during training.\n",
      "  warnings.warn(\n",
      "/home/golde/miniconda3/envs/deeplearning/lib/python3.10/site-packages/spacy/training/iob_utils.py:149: UserWarning: [W030] Some entities could not be aligned in the text \"Add task to enhance the mobile responsiveness of P...\" with entities \"[(57, 62, 'PROJECT')]\". Use `spacy.training.offsets_to_biluo_tags(nlp.make_doc(text), entities)` to check the alignment. Misaligned entities ('-') will be ignored during training.\n",
      "  warnings.warn(\n",
      "/home/golde/miniconda3/envs/deeplearning/lib/python3.10/site-packages/spacy/training/iob_utils.py:149: UserWarning: [W030] Some entities could not be aligned in the text \"Set up a task to optimize AI model performance for...\" with entities \"[(59, 64, 'PROJECT'), (17, 46, 'TASK')]\". Use `spacy.training.offsets_to_biluo_tags(nlp.make_doc(text), entities)` to check the alignment. Misaligned entities ('-') will be ignored during training.\n",
      "  warnings.warn(\n",
      "/home/golde/miniconda3/envs/deeplearning/lib/python3.10/site-packages/spacy/training/iob_utils.py:149: UserWarning: [W030] Some entities could not be aligned in the text \"Please generate task for developing a custom widge...\" with entities \"[(86, 91, 'PROJECT'), (25, 74, 'TASK')]\". Use `spacy.training.offsets_to_biluo_tags(nlp.make_doc(text), entities)` to check the alignment. Misaligned entities ('-') will be ignored during training.\n",
      "  warnings.warn(\n"
     ]
    },
    {
     "name": "stdout",
     "output_type": "stream",
     "text": [
      "Epoch 1: Losses: {'ner': 872.4235991785068, 'textcat_multilabel': 5.5535726095965785}\n",
      "Epoch 2: Losses: {'ner': 412.24660981672605, 'textcat_multilabel': 0.02962992267597686}\n",
      "Epoch 3: Losses: {'ner': 309.24244574087845, 'textcat_multilabel': 0.0059368333045734245}\n",
      "Epoch 4: Losses: {'ner': 263.0871859272844, 'textcat_multilabel': 0.004168383358010917}\n",
      "Epoch 5: Losses: {'ner': 252.3807735487276, 'textcat_multilabel': 0.003237632309895433}\n",
      "Epoch 6: Losses: {'ner': 202.1341656744994, 'textcat_multilabel': 0.0008683460993667846}\n",
      "Epoch 7: Losses: {'ner': 194.03754816285507, 'textcat_multilabel': 0.000934442976001093}\n",
      "Epoch 8: Losses: {'ner': 212.22478858095252, 'textcat_multilabel': 0.0009091725598251166}\n",
      "Epoch 9: Losses: {'ner': 182.70035356569971, 'textcat_multilabel': 0.0009626601623426642}\n",
      "Epoch 10: Losses: {'ner': 154.81344538023305, 'textcat_multilabel': 0.00024044712031215908}\n",
      "Epoch 11: Losses: {'ner': 150.18701716484358, 'textcat_multilabel': 0.000483531359861223}\n",
      "Epoch 12: Losses: {'ner': 148.67419976772982, 'textcat_multilabel': 0.0003114623360538603}\n",
      "Epoch 13: Losses: {'ner': 115.59045166188317, 'textcat_multilabel': 0.00037118835110290516}\n",
      "Epoch 14: Losses: {'ner': 145.82344629347412, 'textcat_multilabel': 0.00048703762066860945}\n",
      "Epoch 15: Losses: {'ner': 114.8444372956043, 'textcat_multilabel': 0.0002557189627374161}\n",
      "Epoch 16: Losses: {'ner': 124.38049537268584, 'textcat_multilabel': 0.0002520318913082076}\n",
      "Epoch 17: Losses: {'ner': 110.17770871172749, 'textcat_multilabel': 9.025385679034331e-05}\n",
      "Epoch 18: Losses: {'ner': 117.61898528196664, 'textcat_multilabel': 0.00011398601674946635}\n",
      "Epoch 19: Losses: {'ner': 99.57394053313445, 'textcat_multilabel': 8.711623196536048e-05}\n",
      "Epoch 20: Losses: {'ner': 124.65295701060924, 'textcat_multilabel': 0.0006446420550584209}\n",
      "Entities: [('testing the system', 'TASK')]\n",
      "Categories: {'MEDIUM': 0.9999990463256836, 'UNKNOWN': 0.9999929666519165, 'STARTDATE': 0.9999526739120483, 'DEADLINE': 0.9999713897705078, 'GROUPTASK': 0.9999754428863525, 'STAR': 0.9999566078186035, 'IN_PROGRESS': 0.9999730587005615, 'DURATION': 0.9999977350234985, 'PENDING': 0.9999862909317017, 'LOW': 0.9999890327453613}\n"
     ]
    }
   ],
   "source": [
    "nlp = spacy.blank(\"en\")\n",
    "ner = nlp.add_pipe(\"ner\")\n",
    "textcat = nlp.add_pipe(\"textcat_multilabel\", last=True)\n",
    "\n",
    "# Thêm các label cho NER\n",
    "for _, annotations in train_data:\n",
    "    for ent in annotations.get(\"entities\"):\n",
    "        ner.add_label(ent[2])\n",
    "\n",
    "# Thêm các label cho Text Classification\n",
    "for _, annotations in train_data:\n",
    "    for cat in annotations.get(\"cats\"):\n",
    "        textcat.add_label(cat)\n",
    "\n",
    "# Bắt đầu huấn luyện mô hình\n",
    "optimizer = nlp.begin_training()\n",
    "\n",
    "for i in range(20):  # Số epoch huấn luyện\n",
    "    random.shuffle(train_data)\n",
    "    losses = {}\n",
    "    for text, annotations in train_data:\n",
    "        doc = nlp.make_doc(text)\n",
    "        example = Example.from_dict(doc, annotations)\n",
    "        nlp.update([example], losses=losses, drop=0.5, sgd=optimizer)\n",
    "    print(f\"Epoch {i + 1}: Losses: {losses}\")\n",
    "\n",
    "# Lưu mô hình đã huấn luyện\n",
    "nlp.to_disk(\"spacy_model\")\n",
    "\n",
    "# Kiểm tra mô hình đã huấn luyện\n",
    "nlp2 = spacy.load(\"spacy_model\")\n",
    "\n",
    "test_text = \"Please set up a task for testing the system.\"\n",
    "doc = nlp2(test_text)\n",
    "\n",
    "print(\"Entities:\", [(ent.text, ent.label_) for ent in doc.ents])\n",
    "print(\"Categories:\", doc.cats)"
   ]
  },
  {
   "cell_type": "code",
   "execution_count": 10,
   "metadata": {},
   "outputs": [
    {
     "name": "stdout",
     "output_type": "stream",
     "text": [
      "Entities: [('building a new feature to monitor AI model performance', 16, 70, 'TASK'), ('Gaia', 82, 86, 'PROJECT')]\n",
      "Categories: {'MEDIUM': 0.999998927116394, 'UNKNOWN': 0.9999939203262329, 'STARTDATE': 0.9999665021896362, 'DEADLINE': 0.9999765157699585, 'GROUPTASK': 0.9999827146530151, 'STAR': 0.9999487400054932, 'IN_PROGRESS': 0.9999769926071167, 'DURATION': 0.999996542930603, 'PENDING': 0.9999865293502808, 'LOW': 0.9999827146530151}\n"
     ]
    }
   ],
   "source": [
    "def load_and_predict(model_path, text):\n",
    "    # Load the trained spaCy model\n",
    "    nlp = spacy.load(model_path)\n",
    "    \n",
    "    # Process the input text\n",
    "    doc = nlp(text)\n",
    "    \n",
    "    # Extract entities\n",
    "    entities = [(ent.text, ent.start_char, ent.end_char, ent.label_) for ent in doc.ents]\n",
    "    \n",
    "    # Extract text categories\n",
    "    categories = {cat: score for cat, score in doc.cats.items()}\n",
    "    \n",
    "    return entities, categories\n",
    "\n",
    "# Example usage\n",
    "model_path = \"spacy_model\"  # Path to your saved model\n",
    "text = \"Create task for building a new feature to monitor AI model performance in Project Gaia. This is medium priority.\"\n",
    "\n",
    "entities, categories = load_and_predict(model_path, text)\n",
    "\n",
    "print(\"Entities:\", entities)\n",
    "print(\"Categories:\", categories)"
   ]
  }
 ],
 "metadata": {
  "kernelspec": {
   "display_name": "deeplearning",
   "language": "python",
   "name": "python3"
  },
  "language_info": {
   "codemirror_mode": {
    "name": "ipython",
    "version": 3
   },
   "file_extension": ".py",
   "mimetype": "text/x-python",
   "name": "python",
   "nbconvert_exporter": "python",
   "pygments_lexer": "ipython3",
   "version": "3.10.14"
  }
 },
 "nbformat": 4,
 "nbformat_minor": 2
}
