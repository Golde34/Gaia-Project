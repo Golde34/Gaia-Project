{
 "cells": [
  {
   "cell_type": "code",
   "execution_count": 1,
   "metadata": {},
   "outputs": [],
   "source": [
    "import spacy\n",
    "from spacy.training import Example\n",
    "from spacy.training import offsets_to_biluo_tags\n",
    "import random\n",
    "import pandas as pd\n",
    "import json"
   ]
  },
  {
   "cell_type": "code",
   "execution_count": 2,
   "metadata": {},
   "outputs": [
    {
     "name": "stdout",
     "output_type": "stream",
     "text": [
      "('Please set a task in the Artemis project, about creating a user feedback system. This is an important task but not urgent.', {'entities': [(25, 32, 'PROJECT'), (48, 79, 'TASK')], 'cats': {'MEDIUM': 1, 'PENDING': 1}})\n",
      "('Create task to verify database integrity after recent updates. This is a star priority.', {'entities': [(15, 40, 'TASK')], 'cats': {'STAR': 1, 'IN_PROGRESS': 1, 'STARTDATE': 1}})\n",
      "('Add task to set up automated testing for backend services. This should be done by the end of the week.', {'entities': [(12, 57, 'TASK')], 'cats': {'MEDIUM': 1, 'TO_DO': 1, 'STARTDATE': 1, 'DEADLINE': 1}})\n",
      "('Generate task to design a new user interface for the dashboard in Project Gaia. This is a high priority.', {'entities': [(74, 78, 'PROJECT'), (17, 62, 'TASK')], 'cats': {'HIGH': 1, 'TO_DO': 1, 'STARTDATE': 1}})\n",
      "('Please set up a task for learning a new language. No rush, just a long-term goal.', {'entities': [(25, 48, 'TASK')], 'cats': {'LOW': 1, 'PENDING': 1}})\n",
      "281\n"
     ]
    }
   ],
   "source": [
    "# Load dataset\n",
    "def process_csv_for_spacy(file_path):\n",
    "    df = pd.read_csv(file_path, delimiter=';', encoding='utf-8')\n",
    "\n",
    "    spacy_data = []\n",
    "    count = 0\n",
    "\n",
    "    for _, row in df.iterrows():\n",
    "        sentence = row['text']\n",
    "        entities = json.loads(row['entities'])\n",
    "\n",
    "        ner_entities = []\n",
    "        textcat_labels = {}\n",
    "\n",
    "        for entity in entities:\n",
    "            start = int(entity['start'])\n",
    "            end = int(entity['end'])\n",
    "            label = entity['label']\n",
    "\n",
    "            if start == 0 and end == 0:\n",
    "                textcat_labels[label] = 1\n",
    "            else:\n",
    "                ner_entities.append((start, end, label))\n",
    "\n",
    "        annotation = {\n",
    "            \"entities\": ner_entities,\n",
    "            \"cats\": textcat_labels\n",
    "        }\n",
    "        count+=1 \n",
    "\n",
    "        spacy_data.append((sentence, annotation))\n",
    "\n",
    "    return spacy_data, count\n",
    "\n",
    "train_data, count = process_csv_for_spacy('spacy_dataset.csv')\n",
    "\n",
    "for data in train_data[:5]:\n",
    "    print(data)\n",
    "\n",
    "print(count)"
   ]
  },
  {
   "cell_type": "code",
   "execution_count": 10,
   "metadata": {},
   "outputs": [
    {
     "name": "stdout",
     "output_type": "stream",
     "text": [
      "Epoch 1: Losses: {'ner': 1200.6076548720707, 'textcat_multilabel': 3.6425167498740088}\n",
      "Epoch 2: Losses: {'ner': 556.6258094420717, 'textcat_multilabel': 0.1033900003261892}\n",
      "Epoch 3: Losses: {'ner': 428.44499754892905, 'textcat_multilabel': 0.008060696376010722}\n",
      "Epoch 4: Losses: {'ner': 367.5084943176672, 'textcat_multilabel': 0.003836877783453027}\n",
      "Epoch 5: Losses: {'ner': 332.5015584380442, 'textcat_multilabel': 0.003300988997435257}\n",
      "Epoch 6: Losses: {'ner': 328.9625192346016, 'textcat_multilabel': 0.0038896064520438697}\n",
      "Epoch 7: Losses: {'ner': 272.09610167129955, 'textcat_multilabel': 0.0006893763485115306}\n",
      "Epoch 8: Losses: {'ner': 259.2377571409092, 'textcat_multilabel': 0.0007661981225302157}\n",
      "Epoch 9: Losses: {'ner': 247.04025391528825, 'textcat_multilabel': 0.0008610059484547672}\n",
      "Epoch 10: Losses: {'ner': 254.231976384895, 'textcat_multilabel': 0.0010187294291213326}\n",
      "Epoch 11: Losses: {'ner': 242.15162642369395, 'textcat_multilabel': 0.00019521612113281538}\n",
      "Epoch 12: Losses: {'ner': 205.65529765707544, 'textcat_multilabel': 0.00045009698204781165}\n",
      "Epoch 13: Losses: {'ner': 190.16458088345024, 'textcat_multilabel': 0.0006136070424663733}\n",
      "Epoch 14: Losses: {'ner': 222.40177269582293, 'textcat_multilabel': 0.0001448117690395726}\n",
      "Epoch 15: Losses: {'ner': 190.94082221981347, 'textcat_multilabel': 0.00015324953226760211}\n",
      "Epoch 16: Losses: {'ner': 179.62078753936444, 'textcat_multilabel': 0.00010969293201841882}\n",
      "Epoch 17: Losses: {'ner': 159.90976437411567, 'textcat_multilabel': 0.0003300804921482728}\n",
      "Epoch 18: Losses: {'ner': 140.66248493166125, 'textcat_multilabel': 0.0003372501060764691}\n",
      "Epoch 19: Losses: {'ner': 151.84886646596718, 'textcat_multilabel': 0.0001621169244825658}\n",
      "Epoch 20: Losses: {'ner': 137.32563725287085, 'textcat_multilabel': 0.00018245568440449986}\n",
      "Entities: [('testing the system', 'TASK')]\n",
      "Categories: {'LOW': 0.9999775886535645, 'PENDING': 0.9999876022338867, 'MEDIUM': 0.9999749660491943, 'TO_DO': 0.9999927282333374, 'STARTDATE': 0.9999896287918091, 'DEADLINE': 0.9999939203262329, 'HIGH': 0.9999961853027344, 'STAR': 0.9999827146530151, 'IN_PROGRESS': 0.9999771118164062, 'DONE': 0.9997840523719788}\n"
     ]
    }
   ],
   "source": [
    "import spacy\n",
    "from spacy.training import Example\n",
    "import random\n",
    "\n",
    "nlp = spacy.blank(\"en\")\n",
    "\n",
    "ner = nlp.add_pipe(\"ner\")\n",
    "textcat = nlp.add_pipe(\"textcat_multilabel\", last=True)\n",
    "\n",
    "for _, annotations in train_data:\n",
    "    for ent in annotations.get(\"entities\"):\n",
    "        ner.add_label(ent[2])\n",
    "\n",
    "for _, annotations in train_data:\n",
    "    for cat in annotations.get(\"cats\"):\n",
    "        textcat.add_label(cat)\n",
    "\n",
    "optimizer = nlp.begin_training()\n",
    "\n",
    "def remove_overlapping_spans(spans):\n",
    "    \"\"\"Xóa các spans chồng chéo, chỉ giữ lại spans không chồng chéo.\"\"\"\n",
    "    spans = sorted(spans, key=lambda span: (span.start, span.end))\n",
    "    resolved_spans = []\n",
    "    for span in spans:\n",
    "        if not resolved_spans or (span.start >= resolved_spans[-1].end):\n",
    "            resolved_spans.append(span)\n",
    "    return resolved_spans\n",
    "\n",
    "for i in range(20):\n",
    "    random.shuffle(train_data)\n",
    "    losses = {}\n",
    "\n",
    "    for text, annotations in train_data:\n",
    "        doc = nlp.make_doc(text)\n",
    "\n",
    "        spans = []\n",
    "        for start, end, label in annotations.get(\"entities\"):\n",
    "            span = doc.char_span(start, end, label=label)\n",
    "            if span is not None:\n",
    "                spans.append(span)\n",
    "\n",
    "        filtered_spans = remove_overlapping_spans(spans)\n",
    "\n",
    "        doc.set_ents(filtered_spans)\n",
    "        \n",
    "        adjusted_entities = [(span.start_char, span.end_char, span.label_) for span in filtered_spans]\n",
    "        annotations[\"entities\"] = adjusted_entities\n",
    "\n",
    "        example = Example.from_dict(doc, annotations)\n",
    "\n",
    "        nlp.update([example], losses=losses, drop=0.5, sgd=optimizer)\n",
    "\n",
    "    print(f\"Epoch {i + 1}: Losses: {losses}\")\n",
    "\n",
    "# Lưu mô hình\n",
    "nlp.to_disk(\"spacy_model\")\n",
    "\n",
    "# Tải mô hình đã lưu\n",
    "nlp2 = spacy.load(\"spacy_model\")\n",
    "\n",
    "# Kiểm tra với một đoạn văn bản mẫu\n",
    "test_text = \"Please set up a task for testing the system.\"\n",
    "doc = nlp2(test_text)\n",
    "\n",
    "# In ra các entity và category\n",
    "print(\"Entities:\", [(ent.text, ent.label_) for ent in doc.ents])\n",
    "print(\"Categories:\", doc.cats)"
   ]
  },
  {
   "cell_type": "code",
   "execution_count": 30,
   "metadata": {},
   "outputs": [
    {
     "name": "stdout",
     "output_type": "stream",
     "text": [
      "Entities: [('enhance the existing AI models', 14, 44, 'TASK'), ('Gaia', 77, 81, 'PROJECT')]\n",
      "Categories: {'LOW': 0.9999922513961792, 'PENDING': 0.9999775886535645, 'MEDIUM': 0.9999822378158569, 'TO_DO': 0.999994158744812, 'STARTDATE': 0.9999948740005493, 'DEADLINE': 0.9999862909317017, 'HIGH': 0.9999912977218628, 'STAR': 0.9999853372573853, 'IN_PROGRESS': 0.9999909400939941, 'DONE': 0.9998431205749512}\n"
     ]
    }
   ],
   "source": [
    "def load_and_predict(model_path, text):\n",
    "    # Load the trained spaCy model\n",
    "    nlp = spacy.load(model_path)\n",
    "    doc = nlp(text)\n",
    "    \n",
    "    entities = [(ent.text, ent.start_char, ent.end_char, ent.label_) for ent in doc.ents]\n",
    "    categories = {cat: score for cat, score in doc.cats.items()}\n",
    "    \n",
    "    return entities, categories\n",
    "\n",
    "model_path = \"spacy_model\" \n",
    "text = \"Add a task to enhance the existing AI models with new algorithms for Project Gaia. This is a high priority.\"\n",
    "\n",
    "entities, categories = load_and_predict(model_path, text)\n",
    "\n",
    "print(\"Entities:\", entities)\n",
    "print(\"Categories:\", categories)"
   ]
  }
 ],
 "metadata": {
  "kernelspec": {
   "display_name": "deeplearning",
   "language": "python",
   "name": "python3"
  },
  "language_info": {
   "codemirror_mode": {
    "name": "ipython",
    "version": 3
   },
   "file_extension": ".py",
   "mimetype": "text/x-python",
   "name": "python",
   "nbconvert_exporter": "python",
   "pygments_lexer": "ipython3",
   "version": "3.10.14"
  }
 },
 "nbformat": 4,
 "nbformat_minor": 2
}
