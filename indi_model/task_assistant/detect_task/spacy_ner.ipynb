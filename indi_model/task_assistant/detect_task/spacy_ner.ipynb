{
 "cells": [
  {
   "cell_type": "code",
   "execution_count": 2,
   "metadata": {},
   "outputs": [],
   "source": [
    "import spacy\n",
    "from spacy.training import Example\n",
    "from spacy.training import offsets_to_biluo_tags\n",
    "import random\n",
    "import pandas as pd\n",
    "import json"
   ]
  },
  {
   "cell_type": "code",
   "execution_count": null,
   "metadata": {},
   "outputs": [],
   "source": [
    "# Load dataset\n",
    "def process_csv_for_spacy(file_path):\n",
    "    df = pd.read_csv(file_path)\n",
    "\n",
    "    spacy_data = []\n",
    "    count = 0\n",
    "\n",
    "    for _, row in df.iterrows():\n",
    "        sentence = row['text']\n",
    "        entities = json.loads(row['entities'])\n",
    "\n",
    "        ner_entities = []\n",
    "        textcat_labels = {}\n",
    "\n",
    "        for entity in entities:\n",
    "            start = int(entity['start'])\n",
    "            end = int(entity['end'])\n",
    "            label = entity['label']\n",
    "\n",
    "            if start == 0 and end == 0:\n",
    "                textcat_labels[label] = 1\n",
    "            else:\n",
    "                ner_entities.append((start, end, label))\n",
    "\n",
    "        annotation = {\n",
    "            \"entities\": ner_entities,\n",
    "            \"cats\": textcat_labels\n",
    "        }\n",
    "        count+=1 \n",
    "\n",
    "        spacy_data.append((sentence, annotation))\n",
    "\n",
    "    return spacy_data, count\n",
    "\n",
    "train_data, count = process_csv_for_spacy('spacy_dataset.csv')\n",
    "\n",
    "for data in train_data[:5]:\n",
    "    print(data)\n",
    "\n",
    "print(count)"
   ]
  },
  {
   "cell_type": "code",
   "execution_count": null,
   "metadata": {},
   "outputs": [],
   "source": [
    "nlp = spacy.blank(\"en\")\n",
    "ner = nlp.add_pipe(\"ner\")\n",
    "textcat = nlp.add_pipe(\"textcat_multilabel\", last=True)\n",
    "\n",
    "for _, annotations in train_data:\n",
    "    for ent in annotations.get(\"entities\"):\n",
    "        ner.add_label(ent[2])\n",
    "\n",
    "for _, annotations in train_data:\n",
    "    for cat in annotations.get(\"cats\"):\n",
    "        textcat.add_label(cat)\n",
    "\n",
    "optimizer = nlp.begin_training()\n",
    "\n",
    "for i in range(20): \n",
    "    random.shuffle(train_data)\n",
    "    losses = {}\n",
    "    for text, annotations in train_data:\n",
    "        doc = nlp.make_doc(text)\n",
    "        example = Example.from_dict(doc, annotations)\n",
    "        nlp.update([example], losses=losses, drop=0.5, sgd=optimizer)\n",
    "    print(f\"Epoch {i + 1}: Losses: {losses}\")\n",
    "\n",
    "nlp.to_disk(\"spacy_model\")\n",
    "\n",
    "nlp2 = spacy.load(\"spacy_model\")\n",
    "\n",
    "test_text = \"Please set up a task for testing the system.\"\n",
    "doc = nlp2(test_text)\n",
    "\n",
    "print(\"Entities:\", [(ent.text, ent.label_) for ent in doc.ents])\n",
    "print(\"Categories:\", doc.cats)"
   ]
  },
  {
   "cell_type": "code",
   "execution_count": 3,
   "metadata": {},
   "outputs": [
    {
     "name": "stdout",
     "output_type": "stream",
     "text": [
      "Entities: [('building a new feature to monitor AI model performance', 16, 70, 'TASK'), ('Gaia', 82, 86, 'PROJECT')]\n",
      "Categories: {'GROUPTASK': 0.9999942779541016, 'MEDIUM': 0.9999672174453735, 'IN_PROGRESS': 0.999993085861206, 'STARTDATE': 0.9999791383743286, 'UNKNOWN': 0.9999979734420776, 'DEADLINE': 0.9999719858169556, 'LOW': 0.9999819993972778, 'PENDING': 0.9999697208404541, 'DURATION': 0.9999632835388184, 'STAR': 0.9999725818634033}\n"
     ]
    }
   ],
   "source": [
    "def load_and_predict(model_path, text):\n",
    "    # Load the trained spaCy model\n",
    "    nlp = spacy.load(model_path)\n",
    "    doc = nlp(text)\n",
    "    \n",
    "    entities = [(ent.text, ent.start_char, ent.end_char, ent.label_) for ent in doc.ents]\n",
    "    categories = {cat: score for cat, score in doc.cats.items()}\n",
    "    \n",
    "    return entities, categories\n",
    "\n",
    "model_path = \"spacy_model\" \n",
    "text = \"Create task for building a new feature to monitor AI model performance in Project Gaia. This is medium priority.\"\n",
    "\n",
    "entities, categories = load_and_predict(model_path, text)\n",
    "\n",
    "print(\"Entities:\", entities)\n",
    "print(\"Categories:\", categories)"
   ]
  }
 ],
 "metadata": {
  "kernelspec": {
   "display_name": "deeplearning",
   "language": "python",
   "name": "python3"
  },
  "language_info": {
   "codemirror_mode": {
    "name": "ipython",
    "version": 3
   },
   "file_extension": ".py",
   "mimetype": "text/x-python",
   "name": "python",
   "nbconvert_exporter": "python",
   "pygments_lexer": "ipython3",
   "version": "3.10.14"
  }
 },
 "nbformat": 4,
 "nbformat_minor": 2
}
