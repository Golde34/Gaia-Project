{
 "cells": [
  {
   "cell_type": "code",
   "execution_count": 1,
   "id": "b5412e01",
   "metadata": {
    "scrolled": true
   },
   "outputs": [],
   "source": [
    "from datasets import load_dataset"
   ]
  },
  {
   "cell_type": "code",
   "execution_count": 2,
   "id": "b6f4ba14",
   "metadata": {
    "scrolled": true
   },
   "outputs": [
    {
     "name": "stderr",
     "output_type": "stream",
     "text": [
      "Found cached dataset parquet (C:/Users/DongViet/.cache/huggingface/datasets/nomic-ai___parquet/nomic-ai--gpt4all-j-prompt-generations-a3b62015e2e52043/0.0.0/2a3b91fbd88a2c90d1dbbb32b460cf621d31bd5b05b934492fdef7d8d6f236ec)\n"
     ]
    },
    {
     "data": {
      "application/vnd.jupyter.widget-view+json": {
       "model_id": "2f6c6723790842168ee94e9a66d8fffb",
       "version_major": 2,
       "version_minor": 0
      },
      "text/plain": [
       "  0%|          | 0/1 [00:00<?, ?it/s]"
      ]
     },
     "metadata": {},
     "output_type": "display_data"
    }
   ],
   "source": [
    "jazzy = load_dataset(\"nomic-ai/gpt4all-j-prompt-generations\", revision='v1.2-jazzy')"
   ]
  },
  {
   "cell_type": "code",
   "execution_count": 3,
   "id": "e062336f",
   "metadata": {
    "scrolled": true
   },
   "outputs": [
    {
     "data": {
      "text/plain": [
       "DatasetDict({\n",
       "    train: Dataset({\n",
       "        features: ['prompt', 'response', 'source'],\n",
       "        num_rows: 711126\n",
       "    })\n",
       "})"
      ]
     },
     "execution_count": 3,
     "metadata": {},
     "output_type": "execute_result"
    }
   ],
   "source": [
    "jazzy"
   ]
  },
  {
   "cell_type": "code",
   "execution_count": 4,
   "id": "3bedb344",
   "metadata": {},
   "outputs": [],
   "source": [
    "import pandas as pd"
   ]
  },
  {
   "cell_type": "code",
   "execution_count": 8,
   "id": "4d3b48f0",
   "metadata": {
    "scrolled": true
   },
   "outputs": [],
   "source": [
    "import fastparquet"
   ]
  },
  {
   "cell_type": "code",
   "execution_count": 9,
   "id": "f36f5fd1",
   "metadata": {},
   "outputs": [],
   "source": [
    "from pathlib import Path\n",
    "import numpy as np\n",
    "\n",
    "random_seed = 10\n",
    "np.random.seed(random_seed)"
   ]
  },
  {
   "cell_type": "code",
   "execution_count": 21,
   "id": "fe709bb7",
   "metadata": {},
   "outputs": [],
   "source": [
    "DATA_PATH = \"D:\\\\Code\\\\PersonalProject\\\\Golde_AI_Assistant_System\\\\indi_model\\\\data\\\\gpt\\\\\""
   ]
  },
  {
   "cell_type": "code",
   "execution_count": 23,
   "id": "fa609d06",
   "metadata": {
    "scrolled": true
   },
   "outputs": [
    {
     "data": {
      "text/html": [
       "<div>\n",
       "<style scoped>\n",
       "    .dataframe tbody tr th:only-of-type {\n",
       "        vertical-align: middle;\n",
       "    }\n",
       "\n",
       "    .dataframe tbody tr th {\n",
       "        vertical-align: top;\n",
       "    }\n",
       "\n",
       "    .dataframe thead th {\n",
       "        text-align: right;\n",
       "    }\n",
       "</style>\n",
       "<table border=\"1\" class=\"dataframe\">\n",
       "  <thead>\n",
       "    <tr style=\"text-align: right;\">\n",
       "      <th></th>\n",
       "      <th>prompt</th>\n",
       "      <th>response</th>\n",
       "      <th>source</th>\n",
       "    </tr>\n",
       "  </thead>\n",
       "  <tbody>\n",
       "    <tr>\n",
       "      <th>0</th>\n",
       "      <td>&lt;p&gt;I am attempting my first packaged AWS Lambd...</td>\n",
       "      <td>The issue is that you have not properly requir...</td>\n",
       "      <td>pacovaldez/stackoverflow-questions</td>\n",
       "    </tr>\n",
       "    <tr>\n",
       "      <th>1</th>\n",
       "      <td>&lt;p&gt;In my Rails 4 Postgres applicaiton I have a...</td>\n",
       "      <td>You can use a database transaction to ensure t...</td>\n",
       "      <td>pacovaldez/stackoverflow-questions</td>\n",
       "    </tr>\n",
       "    <tr>\n",
       "      <th>2</th>\n",
       "      <td>&lt;p&gt;I am using CKEditor with reactjs, and I nee...</td>\n",
       "      <td>Yes, you can use regular expressions to find t...</td>\n",
       "      <td>pacovaldez/stackoverflow-questions</td>\n",
       "    </tr>\n",
       "    <tr>\n",
       "      <th>3</th>\n",
       "      <td>&lt;p&gt;I've developed a compiling bank system of d...</td>\n",
       "      <td>The reason why the derived classes are using t...</td>\n",
       "      <td>pacovaldez/stackoverflow-questions</td>\n",
       "    </tr>\n",
       "    <tr>\n",
       "      <th>4</th>\n",
       "      <td>&lt;p&gt;I have been using Custom Error Redirect pag...</td>\n",
       "      <td>The issue is with the path of the default redi...</td>\n",
       "      <td>pacovaldez/stackoverflow-questions</td>\n",
       "    </tr>\n",
       "    <tr>\n",
       "      <th>...</th>\n",
       "      <td>...</td>\n",
       "      <td>...</td>\n",
       "      <td>...</td>\n",
       "    </tr>\n",
       "    <tr>\n",
       "      <th>177777</th>\n",
       "      <td>What is a question for which the answer is 'bu...</td>\n",
       "      <td>What time did the train depart?</td>\n",
       "      <td>unified_unifiedskg_instructions</td>\n",
       "    </tr>\n",
       "    <tr>\n",
       "      <th>177778</th>\n",
       "      <td>What is a question for which the answer is 'Ch...</td>\n",
       "      <td>What teams has Christian Panucci played for an...</td>\n",
       "      <td>unified_unifiedskg_instructions</td>\n",
       "    </tr>\n",
       "    <tr>\n",
       "      <th>177779</th>\n",
       "      <td>What is a question for which the answer is 'co...</td>\n",
       "      <td>Who was the Quartermaster General of the Unite...</td>\n",
       "      <td>unified_unifiedskg_instructions</td>\n",
       "    </tr>\n",
       "    <tr>\n",
       "      <th>177780</th>\n",
       "      <td>What is a question for which the answer is 'Ce...</td>\n",
       "      <td>What is the Apium genus and what is its connec...</td>\n",
       "      <td>unified_unifiedskg_instructions</td>\n",
       "    </tr>\n",
       "    <tr>\n",
       "      <th>177781</th>\n",
       "      <td>What is a question for which the answer is 'Ea...</td>\n",
       "      <td>What was the percentage of East Manila's share...</td>\n",
       "      <td>unified_unifiedskg_instructions</td>\n",
       "    </tr>\n",
       "  </tbody>\n",
       "</table>\n",
       "<p>177782 rows × 3 columns</p>\n",
       "</div>"
      ],
      "text/plain": [
       "                                                   prompt  \\\n",
       "0       <p>I am attempting my first packaged AWS Lambd...   \n",
       "1       <p>In my Rails 4 Postgres applicaiton I have a...   \n",
       "2       <p>I am using CKEditor with reactjs, and I nee...   \n",
       "3       <p>I've developed a compiling bank system of d...   \n",
       "4       <p>I have been using Custom Error Redirect pag...   \n",
       "...                                                   ...   \n",
       "177777  What is a question for which the answer is 'bu...   \n",
       "177778  What is a question for which the answer is 'Ch...   \n",
       "177779  What is a question for which the answer is 'co...   \n",
       "177780  What is a question for which the answer is 'Ce...   \n",
       "177781  What is a question for which the answer is 'Ea...   \n",
       "\n",
       "                                                 response  \\\n",
       "0       The issue is that you have not properly requir...   \n",
       "1       You can use a database transaction to ensure t...   \n",
       "2       Yes, you can use regular expressions to find t...   \n",
       "3       The reason why the derived classes are using t...   \n",
       "4       The issue is with the path of the default redi...   \n",
       "...                                                   ...   \n",
       "177777                    What time did the train depart?   \n",
       "177778  What teams has Christian Panucci played for an...   \n",
       "177779  Who was the Quartermaster General of the Unite...   \n",
       "177780  What is the Apium genus and what is its connec...   \n",
       "177781  What was the percentage of East Manila's share...   \n",
       "\n",
       "                                    source  \n",
       "0       pacovaldez/stackoverflow-questions  \n",
       "1       pacovaldez/stackoverflow-questions  \n",
       "2       pacovaldez/stackoverflow-questions  \n",
       "3       pacovaldez/stackoverflow-questions  \n",
       "4       pacovaldez/stackoverflow-questions  \n",
       "...                                    ...  \n",
       "177777     unified_unifiedskg_instructions  \n",
       "177778     unified_unifiedskg_instructions  \n",
       "177779     unified_unifiedskg_instructions  \n",
       "177780     unified_unifiedskg_instructions  \n",
       "177781     unified_unifiedskg_instructions  \n",
       "\n",
       "[177782 rows x 3 columns]"
      ]
     },
     "execution_count": 23,
     "metadata": {},
     "output_type": "execute_result"
    }
   ],
   "source": [
    "df_origin = pd.read_parquet(DATA_PATH + \"nomic_ai_parquet2.parquet\", engine='fastparquet')\n",
    "df_origin"
   ]
  },
  {
   "cell_type": "code",
   "execution_count": null,
   "id": "7bffa7bd",
   "metadata": {},
   "outputs": [],
   "source": []
  },
  {
   "cell_type": "code",
   "execution_count": null,
   "id": "dc4454e5",
   "metadata": {},
   "outputs": [],
   "source": []
  }
 ],
 "metadata": {
  "kernelspec": {
   "display_name": "Python 3 (ipykernel)",
   "language": "python",
   "name": "python3"
  },
  "language_info": {
   "codemirror_mode": {
    "name": "ipython",
    "version": 3
   },
   "file_extension": ".py",
   "mimetype": "text/x-python",
   "name": "python",
   "nbconvert_exporter": "python",
   "pygments_lexer": "ipython3",
   "version": "3.9.16"
  }
 },
 "nbformat": 4,
 "nbformat_minor": 5
}
