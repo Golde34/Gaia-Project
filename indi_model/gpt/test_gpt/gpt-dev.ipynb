{
 "cells": [
  {
   "cell_type": "code",
   "execution_count": 1,
   "id": "930f92e0",
   "metadata": {
    "scrolled": false
   },
   "outputs": [],
   "source": [
    "# !wget https://raw.githubusercontent.com/karpathy/char-rnn/master/data/tinyshakespeare/input.txt\n",
    "\n",
    "import torch \n",
    "import tiktoken"
   ]
  },
  {
   "cell_type": "code",
   "execution_count": 2,
   "id": "fb6b112c",
   "metadata": {},
   "outputs": [],
   "source": [
    "with open('input.txt', 'r', encoding='utf-8') as f:\n",
    "    text = f.read()"
   ]
  },
  {
   "cell_type": "code",
   "execution_count": 3,
   "id": "892523bd",
   "metadata": {
    "scrolled": false
   },
   "outputs": [
    {
     "data": {
      "text/plain": [
       "1115394"
      ]
     },
     "execution_count": 3,
     "metadata": {},
     "output_type": "execute_result"
    }
   ],
   "source": [
    "len(text)"
   ]
  },
  {
   "cell_type": "code",
   "execution_count": 4,
   "id": "3031f7f8",
   "metadata": {},
   "outputs": [],
   "source": [
    "## Easy way to encode text\n",
    "\n",
    "def normal_encode(text):\n",
    "    chars = sorted(list(set(text)))\n",
    "    vocab_size = len(chars)\n",
    "    \n",
    "    # create a mapping from characters to integers\n",
    "    stoi = {ch:i for i, ch in enumerate(chars)}\n",
    "    itos = {i:ch for i, ch in enumerate(chars)}\n",
    "    encode = lambda s: [stoi[c] for c in s] # encode string to list of integers, each integer was a charater encoded\n",
    "    decode = lambda l: ''.join([itos[i] for i in l]) # decode list of integers to string \n",
    "\n",
    "    return vocab_size, encode, decode"
   ]
  },
  {
   "cell_type": "code",
   "execution_count": 5,
   "id": "dc52c240",
   "metadata": {},
   "outputs": [],
   "source": [
    "vocab_size, encode, decode = normal_encode(text)\n",
    "data = torch.tensor(encode(text), dtype=torch.long)\n",
    "\n",
    "# enc = tiktoken.get_encoding('gpt2')\n",
    "# vocab_size, encode = enc.n_vocab, enc.encode(text)\n",
    "# data = torch.tensor(encode, dtype=torch.long)\n",
    "\n",
    "# print(data.shape, data.type)\n",
    "# print(data[:1000])"
   ]
  },
  {
   "cell_type": "code",
   "execution_count": 6,
   "id": "0d637b5c",
   "metadata": {},
   "outputs": [],
   "source": [
    "# split up data into train and validation sets\n",
    "n = int(0.9*len(data))\n",
    "train_data = data[:n]\n",
    "val_data = data[n:]"
   ]
  },
  {
   "cell_type": "code",
   "execution_count": 7,
   "id": "e512dd96",
   "metadata": {},
   "outputs": [
    {
     "data": {
      "text/plain": [
       "\"\\nres: tensor([ 5962, 22307,    25,   198,  8421,   356,  5120,   597,  2252])\\nIn chunk of nine charaters have eight individual predictions of position. \\nLike: 5962 with 22307; 5962, 22307 with 25, ... \\nThat's why we plus 1 in each block size\\n\""
      ]
     },
     "execution_count": 7,
     "metadata": {},
     "output_type": "execute_result"
    }
   ],
   "source": [
    "block_size = 8\n",
    "train_data[:block_size+1]\n",
    "\"\"\"\n",
    "res: tensor([ 5962, 22307,    25,   198,  8421,   356,  5120,   597,  2252])\n",
    "In chunk of nine charaters have eight individual predictions of position. \n",
    "Like: 5962 with 22307; 5962, 22307 with 25, ... \n",
    "That's why we plus 1 in each block size\n",
    "\"\"\""
   ]
  },
  {
   "cell_type": "code",
   "execution_count": 8,
   "id": "c3f6d875",
   "metadata": {},
   "outputs": [
    {
     "name": "stdout",
     "output_type": "stream",
     "text": [
      "When input is tensor([18]) the target : 47\n",
      "When input is tensor([18, 47]) the target : 56\n",
      "When input is tensor([18, 47, 56]) the target : 57\n",
      "When input is tensor([18, 47, 56, 57]) the target : 58\n",
      "When input is tensor([18, 47, 56, 57, 58]) the target : 1\n",
      "When input is tensor([18, 47, 56, 57, 58,  1]) the target : 15\n",
      "When input is tensor([18, 47, 56, 57, 58,  1, 15]) the target : 47\n",
      "When input is tensor([18, 47, 56, 57, 58,  1, 15, 47]) the target : 58\n"
     ]
    }
   ],
   "source": [
    "x = train_data[:block_size]\n",
    "y = train_data[1:block_size+1] # target of each positions\n",
    "for index_target in range(block_size):\n",
    "    context = x[:index_target+1]\n",
    "    target = y[index_target]\n",
    "    print(\"When input is {0} the target : {1}\".format(context, target))"
   ]
  },
  {
   "cell_type": "code",
   "execution_count": 9,
   "id": "5d03368d",
   "metadata": {
    "scrolled": true
   },
   "outputs": [
    {
     "name": "stdout",
     "output_type": "stream",
     "text": [
      "Inputs: tensor([[24, 43, 58,  5, 57,  1, 46, 43],\n",
      "        [44, 53, 56,  1, 58, 46, 39, 58],\n",
      "        [52, 58,  1, 58, 46, 39, 58,  1],\n",
      "        [25, 17, 27, 10,  0, 21,  1, 54]]), shape: torch.Size([4, 8])\n",
      "Targets: tensor([[43, 58,  5, 57,  1, 46, 43, 39],\n",
      "        [53, 56,  1, 58, 46, 39, 58,  1],\n",
      "        [58,  1, 58, 46, 39, 58,  1, 46],\n",
      "        [17, 27, 10,  0, 21,  1, 54, 39]]), shape: torch.Size([4, 8])\n",
      "-----\n"
     ]
    }
   ],
   "source": [
    "torch.manual_seed(1337)\n",
    "block_size = 8 # maximum context length for predictions\n",
    "batch_size = 4 # number of independent sequences which process parallel\n",
    "\n",
    "def get_batch(split):\n",
    "    data = train_data if split=='train' else val_data\n",
    "    ix = torch.randint(len(data) - block_size, (batch_size,))\n",
    "    x = torch.stack([data[i:i+block_size] for i in ix])\n",
    "    y = torch.stack([data[i+1:i+block_size+1] for i in ix])\n",
    "    return x, y\n",
    "\n",
    "xb, yb = get_batch('train')\n",
    "print(\"Inputs: {0}, shape: {1}\".format(xb, xb.shape))\n",
    "print(\"Targets: {0}, shape: {1}\".format(yb, yb.shape))\n",
    "print(\"-----\")\n",
    "\n",
    "for b in range(batch_size): # batch dimension\n",
    "    for t in range(block_size): # time dimension\n",
    "        context = xb[b, :t+1]\n",
    "        target = yb[b, t]\n",
    "#         print(\"When input is {0} the target: {1}\".format(context.tolist(), target))\n",
    "        "
   ]
  },
  {
   "cell_type": "code",
   "execution_count": 10,
   "id": "402fe906",
   "metadata": {},
   "outputs": [
    {
     "name": "stdout",
     "output_type": "stream",
     "text": [
      "cuda\n"
     ]
    }
   ],
   "source": [
    "device = torch.device('cuda' if torch.cuda.is_available() else 'cpu')\n",
    "print(device)"
   ]
  },
  {
   "cell_type": "code",
   "execution_count": 11,
   "id": "a88446a0",
   "metadata": {},
   "outputs": [
    {
     "name": "stdout",
     "output_type": "stream",
     "text": [
      "torch.Size([32, 65])\n",
      "tensor(4.8786, device='cuda:0', grad_fn=<NllLossBackward0>)\n",
      "\n",
      "Sr?qP-QWktXoL&jLDJgOLVz'RIoDqHdhsV&vLLxatjscMpwLERSPyao.qfzs$Ys$zF-w,;eEkzxjgCKFChs!iWW.ObzDnxA Ms$3\n"
     ]
    }
   ],
   "source": [
    "import torch.nn as nn\n",
    "from torch.nn import functional as F\n",
    "torch.manual_seed(1337)\n",
    "\n",
    "class BigramLanguageModel(nn.Module):\n",
    "    \n",
    "    def __init__(self, vocab_size):\n",
    "        super().__init__()\n",
    "        # each token directly reads off the logits for the next token from a lookup table\n",
    "        self.token_embedding_table = nn.Embedding(vocab_size, vocab_size)\n",
    "    \n",
    "    def forward(self, idx, targets=None):\n",
    "        # idx and targets are both (B, T) tensor of integers\n",
    "        logits = self.token_embedding_table(idx) # Batch, Time, Channel (B, T, C)\n",
    "        \n",
    "        if targets is None:\n",
    "            loss = None\n",
    "        else:\n",
    "            B, T, C = logits.shape\n",
    "            logits = logits.view(B*T, C).to(device)\n",
    "            targets = targets.view(B*T).to(device)\n",
    "            loss = F.cross_entropy(logits, targets).to(device)\n",
    "        \n",
    "        return logits, loss\n",
    "    \n",
    "    def generate(self, idx, max_new_tokens):\n",
    "        #idx is (B, T) array of indices in the current context\n",
    "        for _ in range(max_new_tokens):\n",
    "            # get the predictions \n",
    "            logits, loss = self(idx)\n",
    "            # focus only on the last time step\n",
    "            logits = logits[:, -1, :] # becomes (B, C)\n",
    "            # apply softmax to get posibilities\n",
    "            probs = F.softmax(logits, dim=-1) # (B, C)\n",
    "            # sample from the distribution\n",
    "            idx_next = torch.multinomial(probs, num_samples=1) # (B, 1)\n",
    "            # append sampled index to the running sequence\n",
    "            idx = torch.cat((idx, idx_next), dim=1) # (B, T+1)\n",
    "        return idx\n",
    "\n",
    "m = BigramLanguageModel(vocab_size)\n",
    "logits, loss = m(xb, yb)\n",
    "print(logits.shape)\n",
    "print(loss)\n",
    "\n",
    "print(decode(m.generate(idx = torch.zeros((1, 1), dtype=torch.long), max_new_tokens=100)[0].tolist()))\n",
    "# print(enc.decode(m.generate(idx = torch.zeros((1, 1), dtype=torch.long), max_new_tokens=100)[0].tolist()))"
   ]
  },
  {
   "cell_type": "code",
   "execution_count": 12,
   "id": "1c4acb4a",
   "metadata": {},
   "outputs": [],
   "source": [
    "## Train model\n",
    "\n",
    "# create a Pytorch optimizer\n",
    "optimizer = torch.optim.Adam(m.parameters(), lr=1e-3)\n"
   ]
  },
  {
   "cell_type": "code",
   "execution_count": 15,
   "id": "fb623a82",
   "metadata": {
    "scrolled": true
   },
   "outputs": [
    {
     "name": "stdout",
     "output_type": "stream",
     "text": [
      "4.742244720458984\n",
      "4.756617069244385\n",
      "4.620075225830078\n",
      "4.687492847442627\n",
      "4.858060359954834\n",
      "4.7236151695251465\n",
      "4.7092742919921875\n",
      "4.750816345214844\n",
      "4.702263832092285\n",
      "4.682612419128418\n",
      "4.7599029541015625\n",
      "4.754669189453125\n",
      "4.75029182434082\n",
      "4.68526554107666\n",
      "4.610246658325195\n",
      "4.688901424407959\n",
      "4.780756950378418\n",
      "4.708594799041748\n",
      "4.746777057647705\n",
      "4.766784191131592\n",
      "4.7585859298706055\n",
      "4.803990840911865\n",
      "4.6909284591674805\n",
      "4.675876617431641\n",
      "4.725437641143799\n",
      "4.728777885437012\n",
      "4.732754230499268\n",
      "4.710930824279785\n",
      "4.798864841461182\n",
      "4.602583885192871\n",
      "4.581996917724609\n",
      "4.717106819152832\n",
      "4.721364498138428\n",
      "4.575143814086914\n",
      "4.6723761558532715\n",
      "4.747941017150879\n",
      "4.62702751159668\n",
      "4.659266948699951\n",
      "4.713916778564453\n",
      "4.732155799865723\n",
      "4.7044572830200195\n",
      "4.699065208435059\n",
      "4.633747577667236\n",
      "4.658839225769043\n",
      "4.576534271240234\n",
      "4.737191200256348\n",
      "4.7067365646362305\n",
      "4.686782360076904\n",
      "4.69549036026001\n",
      "4.6881585121154785\n",
      "4.669588565826416\n",
      "4.742630958557129\n",
      "4.713571548461914\n",
      "4.61328649520874\n",
      "4.766002178192139\n",
      "4.702328681945801\n",
      "4.601953506469727\n",
      "4.533900737762451\n",
      "4.569066524505615\n",
      "4.639706611633301\n",
      "4.571841239929199\n",
      "4.577757358551025\n",
      "4.588602066040039\n",
      "4.681396007537842\n",
      "4.633425235748291\n",
      "4.778733730316162\n",
      "4.622654914855957\n",
      "4.671787261962891\n",
      "4.5527215003967285\n",
      "4.612619400024414\n",
      "4.728482723236084\n",
      "4.705254077911377\n",
      "4.6082000732421875\n",
      "4.641339302062988\n",
      "4.676846981048584\n",
      "4.668515205383301\n",
      "4.615140438079834\n",
      "4.6882758140563965\n",
      "4.657369613647461\n",
      "4.760512828826904\n",
      "4.65022611618042\n",
      "4.846493244171143\n",
      "4.666578769683838\n",
      "4.587105751037598\n",
      "4.679651737213135\n",
      "4.758149147033691\n",
      "4.706623554229736\n",
      "4.61452579498291\n",
      "4.647818088531494\n",
      "4.692678451538086\n",
      "4.585215091705322\n",
      "4.710872173309326\n",
      "4.50174617767334\n",
      "4.487271308898926\n",
      "4.5973310470581055\n",
      "4.686939716339111\n",
      "4.639498233795166\n",
      "4.678796291351318\n",
      "4.611147403717041\n",
      "4.600537300109863\n"
     ]
    }
   ],
   "source": [
    "batch_size = 32\n",
    "for step in range(100):\n",
    "    xb, yb = get_batch('train')\n",
    "    # evaluate the loss\n",
    "    logits, loss = m(xb, yb)\n",
    "    optimizer.zero_grad(set_to_none=True)\n",
    "    loss.backward()\n",
    "    optimizer.step()\n",
    "    \n",
    "    print(loss.item())"
   ]
  },
  {
   "cell_type": "code",
   "execution_count": 16,
   "id": "c4856824",
   "metadata": {},
   "outputs": [
    {
     "name": "stdout",
     "output_type": "stream",
     "text": [
      "\n",
      "w!Upm$srm&TqViqiBD3HBP!juEOpmZJyF$Fwfy!PlvWPFC\n",
      "&WDdP!Ko,px\n",
      "x\n",
      "tREOE;AJ.BeXkylOVD3KHp$e?nD,.SFbWWI'ubcL!q-tU;aXmJ&uGXHxJXI&Z!gHRpajj;l.\n",
      "pTErIBjx;JKIgoCnLGXrJSP!AU-AcbczR?aytqQmBxZb:txqfSBj$I&\n",
      "gXxy,j,SYgOmgXAaVzLXxlVSP!uSq 3!UM&vcL&yN!zXiA.da-mZ3Izkm!a;Ilkzdd -gwCjN.ivvhM;TBCPOm'p$JO qVJwfRCV,q$Vt3vim3\n"
     ]
    }
   ],
   "source": [
    "print(decode(m.generate(idx = torch.zeros((1, 1), dtype=torch.long), max_new_tokens=300)[0].tolist()))\n"
   ]
  },
  {
   "cell_type": "code",
   "execution_count": null,
   "id": "5d1d7ef2",
   "metadata": {},
   "outputs": [],
   "source": []
  }
 ],
 "metadata": {
  "kernelspec": {
   "display_name": "Python 3 (ipykernel)",
   "language": "python",
   "name": "python3"
  },
  "language_info": {
   "codemirror_mode": {
    "name": "ipython",
    "version": 3
   },
   "file_extension": ".py",
   "mimetype": "text/x-python",
   "name": "python",
   "nbconvert_exporter": "python",
   "pygments_lexer": "ipython3",
   "version": "3.9.16"
  }
 },
 "nbformat": 4,
 "nbformat_minor": 5
}
