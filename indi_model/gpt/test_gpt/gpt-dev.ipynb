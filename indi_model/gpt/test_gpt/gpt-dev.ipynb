{
 "cells": [
  {
   "cell_type": "code",
   "execution_count": 1,
   "id": "930f92e0",
   "metadata": {
    "scrolled": false
   },
   "outputs": [],
   "source": [
    "# !wget https://raw.githubusercontent.com/karpathy/char-rnn/master/data/tinyshakespeare/input.txt\n",
    "\n",
    "import torch \n",
    "import tiktoken"
   ]
  },
  {
   "cell_type": "code",
   "execution_count": 2,
   "id": "fb6b112c",
   "metadata": {},
   "outputs": [],
   "source": [
    "with open('input.txt', 'r', encoding='utf-8') as f:\n",
    "    text = f.read()"
   ]
  },
  {
   "cell_type": "code",
   "execution_count": 3,
   "id": "892523bd",
   "metadata": {
    "scrolled": false
   },
   "outputs": [
    {
     "data": {
      "text/plain": [
       "1115394"
      ]
     },
     "execution_count": 3,
     "metadata": {},
     "output_type": "execute_result"
    }
   ],
   "source": [
    "len(text)"
   ]
  },
  {
   "cell_type": "code",
   "execution_count": 4,
   "id": "3031f7f8",
   "metadata": {},
   "outputs": [],
   "source": [
    "## Easy way to encode text\n",
    "\n",
    "def normal_encode(text):\n",
    "    chars = sorted(list(set(text)))\n",
    "    vocab_size = len(chars)\n",
    "    \n",
    "    # create a mapping from characters to integers\n",
    "    stoi = {ch:i for i, ch in enumerate(chars)}\n",
    "    itos = {i:ch for i, ch in enumerate(chars)}\n",
    "    encode = lambda s: [stoi[c] for c in s] # encode string to list of integers, each integer was a charater encoded\n",
    "    decode = lambda l: ''.join([itos[i] for i in l]) # decode list of integers to string \n",
    "\n",
    "    return vocab_size, encode, decode"
   ]
  },
  {
   "cell_type": "code",
   "execution_count": 5,
   "id": "dc52c240",
   "metadata": {},
   "outputs": [],
   "source": [
    "vocab_size, encode, decode = normal_encode(text)\n",
    "data = torch.tensor(encode(text), dtype=torch.long)\n",
    "\n",
    "# enc = tiktoken.get_encoding('gpt2')\n",
    "# vocab_size, encode = enc.n_vocab, enc.encode(text)\n",
    "# data = torch.tensor(encode, dtype=torch.long)\n",
    "\n",
    "# print(data.shape, data.type)\n",
    "# print(data[:1000])"
   ]
  },
  {
   "cell_type": "code",
   "execution_count": 6,
   "id": "0d637b5c",
   "metadata": {},
   "outputs": [],
   "source": [
    "# split up data into train and validation sets\n",
    "n = int(0.9*len(data))\n",
    "train_data = data[:n]\n",
    "val_data = data[n:]"
   ]
  },
  {
   "cell_type": "code",
   "execution_count": 7,
   "id": "e512dd96",
   "metadata": {},
   "outputs": [
    {
     "data": {
      "text/plain": [
       "\"\\nres: tensor([ 5962, 22307,    25,   198,  8421,   356,  5120,   597,  2252])\\nIn chunk of nine charaters have eight individual predictions of position. \\nLike: 5962 with 22307; 5962, 22307 with 25, ... \\nThat's why we plus 1 in each block size\\n\""
      ]
     },
     "execution_count": 7,
     "metadata": {},
     "output_type": "execute_result"
    }
   ],
   "source": [
    "block_size = 8\n",
    "train_data[:block_size+1]\n",
    "\"\"\"\n",
    "res: tensor([ 5962, 22307,    25,   198,  8421,   356,  5120,   597,  2252])\n",
    "In chunk of nine charaters have eight individual predictions of position. \n",
    "Like: 5962 with 22307; 5962, 22307 with 25, ... \n",
    "That's why we plus 1 in each block size\n",
    "\"\"\""
   ]
  },
  {
   "cell_type": "code",
   "execution_count": 8,
   "id": "c3f6d875",
   "metadata": {},
   "outputs": [
    {
     "name": "stdout",
     "output_type": "stream",
     "text": [
      "When input is tensor([18]) the target : 47\n",
      "When input is tensor([18, 47]) the target : 56\n",
      "When input is tensor([18, 47, 56]) the target : 57\n",
      "When input is tensor([18, 47, 56, 57]) the target : 58\n",
      "When input is tensor([18, 47, 56, 57, 58]) the target : 1\n",
      "When input is tensor([18, 47, 56, 57, 58,  1]) the target : 15\n",
      "When input is tensor([18, 47, 56, 57, 58,  1, 15]) the target : 47\n",
      "When input is tensor([18, 47, 56, 57, 58,  1, 15, 47]) the target : 58\n"
     ]
    }
   ],
   "source": [
    "x = train_data[:block_size]\n",
    "y = train_data[1:block_size+1] # target of each positions\n",
    "for index_target in range(block_size):\n",
    "    context = x[:index_target+1]\n",
    "    target = y[index_target]\n",
    "    print(\"When input is {0} the target : {1}\".format(context, target))"
   ]
  },
  {
   "cell_type": "code",
   "execution_count": 9,
   "id": "5d03368d",
   "metadata": {
    "scrolled": true
   },
   "outputs": [
    {
     "name": "stdout",
     "output_type": "stream",
     "text": [
      "Inputs: tensor([[24, 43, 58,  5, 57,  1, 46, 43],\n",
      "        [44, 53, 56,  1, 58, 46, 39, 58],\n",
      "        [52, 58,  1, 58, 46, 39, 58,  1],\n",
      "        [25, 17, 27, 10,  0, 21,  1, 54]]), shape: torch.Size([4, 8])\n",
      "Targets: tensor([[43, 58,  5, 57,  1, 46, 43, 39],\n",
      "        [53, 56,  1, 58, 46, 39, 58,  1],\n",
      "        [58,  1, 58, 46, 39, 58,  1, 46],\n",
      "        [17, 27, 10,  0, 21,  1, 54, 39]]), shape: torch.Size([4, 8])\n",
      "-----\n"
     ]
    }
   ],
   "source": [
    "torch.manual_seed(1337)\n",
    "block_size = 8 # maximum context length for predictions\n",
    "batch_size = 4 # number of independent sequences which process parallel\n",
    "\n",
    "def get_batch(split):\n",
    "    data = train_data if split=='train' else val_data\n",
    "    ix = torch.randint(len(data) - block_size, (batch_size,))\n",
    "    x = torch.stack([data[i:i+block_size] for i in ix])\n",
    "    y = torch.stack([data[i+1:i+block_size+1] for i in ix])\n",
    "    return x, y\n",
    "\n",
    "xb, yb = get_batch('train')\n",
    "print(\"Inputs: {0}, shape: {1}\".format(xb, xb.shape))\n",
    "print(\"Targets: {0}, shape: {1}\".format(yb, yb.shape))\n",
    "print(\"-----\")\n",
    "\n",
    "for b in range(batch_size): # batch dimension\n",
    "    for t in range(block_size): # time dimension\n",
    "        context = xb[b, :t+1]\n",
    "        target = yb[b, t]\n",
    "#         print(\"When input is {0} the target: {1}\".format(context.tolist(), target))\n",
    "        "
   ]
  },
  {
   "cell_type": "code",
   "execution_count": 10,
   "id": "402fe906",
   "metadata": {},
   "outputs": [
    {
     "name": "stdout",
     "output_type": "stream",
     "text": [
      "cuda\n"
     ]
    }
   ],
   "source": [
    "device = torch.device('cuda' if torch.cuda.is_available() else 'cpu')\n",
    "print(device)"
   ]
  },
  {
   "cell_type": "code",
   "execution_count": 11,
   "id": "a88446a0",
   "metadata": {},
   "outputs": [
    {
     "name": "stdout",
     "output_type": "stream",
     "text": [
      "torch.Size([32, 65])\n",
      "tensor(4.8786, device='cuda:0', grad_fn=<NllLossBackward0>)\n",
      "\n",
      "Sr?qP-QWktXoL&jLDJgOLVz'RIoDqHdhsV&vLLxatjscMpwLERSPyao.qfzs$Ys$zF-w,;eEkzxjgCKFChs!iWW.ObzDnxA Ms$3\n"
     ]
    }
   ],
   "source": [
    "import torch.nn as nn\n",
    "from torch.nn import functional as F\n",
    "torch.manual_seed(1337)\n",
    "\n",
    "class BigramLanguageModel(nn.Module):\n",
    "    \n",
    "    def __init__(self, vocab_size):\n",
    "        super().__init__()\n",
    "        # each token directly reads off the logits for the next token from a lookup table\n",
    "        self.token_embedding_table = nn.Embedding(vocab_size, vocab_size)\n",
    "    \n",
    "    def forward(self, idx, targets=None):\n",
    "        # idx and targets are both (B, T) tensor of integers\n",
    "        logits = self.token_embedding_table(idx) # Batch, Time, Channel (B, T, C)\n",
    "        \n",
    "        if targets is None:\n",
    "            loss = None\n",
    "        else:\n",
    "            B, T, C = logits.shape\n",
    "            logits = logits.view(B*T, C).to(device)\n",
    "            targets = targets.view(B*T).to(device)\n",
    "            loss = F.cross_entropy(logits, targets).to(device)\n",
    "        \n",
    "        return logits, loss\n",
    "    \n",
    "    def generate(self, idx, max_new_tokens):\n",
    "        #idx is (B, T) array of indices in the current context\n",
    "        for _ in range(max_new_tokens):\n",
    "            # get the predictions \n",
    "            logits, loss = self(idx)\n",
    "            # focus only on the last time step\n",
    "            logits = logits[:, -1, :] # becomes (B, C)\n",
    "            # apply softmax to get posibilities\n",
    "            probs = F.softmax(logits, dim=-1) # (B, C)\n",
    "            # sample from the distribution\n",
    "            idx_next = torch.multinomial(probs, num_samples=1) # (B, 1)\n",
    "            # append sampled index to the running sequence\n",
    "            idx = torch.cat((idx, idx_next), dim=1) # (B, T+1)\n",
    "        return idx\n",
    "\n",
    "m = BigramLanguageModel(vocab_size)\n",
    "logits, loss = m(xb, yb)\n",
    "print(logits.shape)\n",
    "print(loss)\n",
    "\n",
    "print(decode(m.generate(idx = torch.zeros((1, 1), dtype=torch.long), max_new_tokens=100)[0].tolist()))\n",
    "# print(enc.decode(m.generate(idx = torch.zeros((1, 1), dtype=torch.long), max_new_tokens=100)[0].tolist()))"
   ]
  },
  {
   "cell_type": "code",
   "execution_count": 12,
   "id": "1c4acb4a",
   "metadata": {},
   "outputs": [],
   "source": [
    "## Train model\n",
    "\n",
    "# create a Pytorch optimizer\n",
    "optimizer = torch.optim.Adam(m.parameters(), lr=1e-3)\n"
   ]
  },
  {
   "cell_type": "code",
   "execution_count": 13,
   "id": "fb623a82",
   "metadata": {
    "scrolled": true
   },
   "outputs": [
    {
     "name": "stdout",
     "output_type": "stream",
     "text": [
      "4.704006671905518\n",
      "4.721129894256592\n",
      "4.6532135009765625\n",
      "4.70629358291626\n",
      "4.780948638916016\n",
      "4.751323699951172\n",
      "4.839620113372803\n",
      "4.668044090270996\n",
      "4.7438063621521\n",
      "4.774146556854248\n",
      "4.690934658050537\n",
      "4.789270877838135\n",
      "4.617897033691406\n",
      "4.651078701019287\n",
      "4.886624813079834\n",
      "4.703958034515381\n",
      "4.757771968841553\n",
      "4.655284881591797\n",
      "4.709480285644531\n",
      "4.674715042114258\n",
      "4.7607269287109375\n",
      "4.789508819580078\n",
      "4.6539740562438965\n",
      "4.662156105041504\n",
      "4.673258304595947\n",
      "4.666038513183594\n",
      "4.730401039123535\n",
      "4.755608558654785\n",
      "4.7124924659729\n",
      "4.745827674865723\n",
      "4.7270827293396\n",
      "4.735453128814697\n",
      "4.777830600738525\n",
      "4.64369010925293\n",
      "4.665538311004639\n",
      "4.798058032989502\n",
      "4.7178120613098145\n",
      "4.68403959274292\n",
      "4.819314956665039\n",
      "4.614159107208252\n",
      "4.574166774749756\n",
      "4.561123371124268\n",
      "4.816129207611084\n",
      "4.60658073425293\n",
      "4.620136260986328\n",
      "4.725918769836426\n",
      "4.650966167449951\n",
      "4.594605922698975\n",
      "4.720812797546387\n",
      "4.699873924255371\n",
      "4.672942638397217\n",
      "4.728536605834961\n",
      "4.662074089050293\n",
      "4.617297172546387\n",
      "4.600391387939453\n",
      "4.653914928436279\n",
      "4.716754913330078\n",
      "4.6932806968688965\n",
      "4.668145179748535\n",
      "4.656375408172607\n",
      "4.656406879425049\n",
      "4.754920482635498\n",
      "4.723834991455078\n",
      "4.617725372314453\n",
      "4.70520544052124\n",
      "4.752821922302246\n",
      "4.5702290534973145\n",
      "4.548516750335693\n",
      "4.571749687194824\n",
      "4.570090293884277\n",
      "4.599076747894287\n",
      "4.548515319824219\n",
      "4.592137813568115\n",
      "4.660704135894775\n",
      "4.624485492706299\n",
      "4.7433247566223145\n",
      "4.645073413848877\n",
      "4.643769264221191\n",
      "4.580564975738525\n",
      "4.584164619445801\n",
      "4.722870826721191\n",
      "4.670268535614014\n",
      "4.63088846206665\n",
      "4.555764675140381\n",
      "4.682493686676025\n",
      "4.675857067108154\n",
      "4.6567702293396\n",
      "4.670238018035889\n",
      "4.650444984436035\n",
      "4.675836086273193\n",
      "4.654403209686279\n",
      "4.786651611328125\n",
      "4.732094764709473\n",
      "4.597776889801025\n",
      "4.587611198425293\n",
      "4.763589382171631\n",
      "4.742473602294922\n",
      "4.603541374206543\n",
      "4.6632280349731445\n",
      "4.58888578414917\n"
     ]
    }
   ],
   "source": [
    "batch_size = 32\n",
    "for step in range(100):\n",
    "    xb, yb = get_batch('train')\n",
    "    # evaluate the loss\n",
    "    logits, loss = m(xb, yb)\n",
    "    optimizer.zero_grad(set_to_none=True)\n",
    "    loss.backward()\n",
    "    optimizer.step()\n",
    "    \n",
    "    print(loss.item())"
   ]
  },
  {
   "cell_type": "code",
   "execution_count": 14,
   "id": "c4856824",
   "metadata": {
    "scrolled": true
   },
   "outputs": [
    {
     "name": "stdout",
     "output_type": "stream",
     "text": [
      "\n",
      "xiKi-RJ:CgqVuUa!U?qMH.uk!sCuMXvv!CJFfx;LgRyJknOEti.?I&-gPlLyulId?XlaInQ'q,lT$\n",
      "3Q&sGlvHQ?mqSq-eON\n",
      "x?SP fUAfCAuCX:bOlgiRQWN:Mphaw\n",
      "tRLKuYXEaAXxrcq-gCUzeh3w!AcyaylgYWjmJM?Uzw:inaY,:C&OECW:vmGGJAn3onAuMgia!ms$Vb q-gCOcPcUhOnxJGUGSPJWT:.?ujmJFoiNL&A'DxY,prZ?qdT;hoo'dHooXXlxf'WkHK&u3Q?rqUi.kz;?Yx?C&u3Qbfzx\n"
     ]
    }
   ],
   "source": [
    "print(decode(m.generate(idx = torch.zeros((1, 1), dtype=torch.long), max_new_tokens=300)[0].tolist()))\n"
   ]
  },
  {
   "cell_type": "code",
   "execution_count": 15,
   "id": "0ff04079",
   "metadata": {},
   "outputs": [
    {
     "data": {
      "text/plain": [
       "torch.Size([4, 8, 2])"
      ]
     },
     "execution_count": 15,
     "metadata": {},
     "output_type": "execute_result"
    }
   ],
   "source": [
    "# mathematical trick in self-attention\n",
    "\n",
    "torch.manual_seed(1337)\n",
    "B, T, C = 4, 8, 2\n",
    "x = torch.randn(B, T, C)\n",
    "x.shape"
   ]
  },
  {
   "cell_type": "code",
   "execution_count": null,
   "id": "4874a9f4",
   "metadata": {},
   "outputs": [],
   "source": []
  }
 ],
 "metadata": {
  "kernelspec": {
   "display_name": "Python 3 (ipykernel)",
   "language": "python",
   "name": "python3"
  },
  "language_info": {
   "codemirror_mode": {
    "name": "ipython",
    "version": 3
   },
   "file_extension": ".py",
   "mimetype": "text/x-python",
   "name": "python",
   "nbconvert_exporter": "python",
   "pygments_lexer": "ipython3",
   "version": "3.9.16"
  }
 },
 "nbformat": 4,
 "nbformat_minor": 5
}
