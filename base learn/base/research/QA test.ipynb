{
 "cells": [
  {
   "cell_type": "code",
   "execution_count": 18,
   "id": "99a70a50",
   "metadata": {},
   "outputs": [],
   "source": [
    "from transformers import pipeline, set_seed\n",
    "generator = pipeline('text-generation', model='gpt2')\n",
    "set_seed(42)\n",
    "generator()"
   ]
  },
  {
   "cell_type": "code",
   "execution_count": 26,
   "id": "3b0164cb",
   "metadata": {},
   "outputs": [],
   "source": [
    "from transformers import AutoModelForQuestionAnswering, AutoTokenizer, pipeline\n",
    "\n",
    "model_name = \"deepset/roberta-base-squad2\"\n",
    "\n",
    "nlp = pipeline('question-answering', model=model_name, tokenizer=model_name)\n",
    "QA_input = {\n",
    "    'question': 'Plan for me a vacation in Da Nang, Vietnam',\n",
    "    'context' : 'Okay, here is your vacation. We will start at 9:30 AM tomorrow in Noi Bai Air Station, then we will arrive at Da Nang at 13:30 PM.'\n",
    "}\n",
    "\n",
    "QA_input_2 = {\n",
    "    'question': 'Plan for me a vacation in Da Nang, Vietnam',\n",
    "    'context' : 'Okay, here is your vacation. We will start at 9:30 AM tomorrow in Hochiminh Air Station, then we will arrive at Bejing at 13:30 PM.'\n",
    "}\n",
    "\n",
    "res = nlp(QA_input_2)\n",
    "\n",
    "model = AutoModelForQuestionAnswering.from_pretrained(pretrained_model_name_or_path=model_name)\n",
    "tokenizer = AutoTokenizer.from_pretrained(pretrained_model_name_or_path=model_name)"
   ]
  },
  {
   "cell_type": "code",
   "execution_count": 27,
   "id": "7aa46108",
   "metadata": {
    "scrolled": true
   },
   "outputs": [
    {
     "data": {
      "text/plain": [
       "{'score': 0.0025631876196712255,\n",
       " 'start': 29,\n",
       " 'end': 83,\n",
       " 'answer': 'We will start at 9:30 AM tomorrow in Paris Air Station'}"
      ]
     },
     "execution_count": 27,
     "metadata": {},
     "output_type": "execute_result"
    }
   ],
   "source": [
    "res"
   ]
  },
  {
   "cell_type": "code",
   "execution_count": null,
   "id": "3b1cb671",
   "metadata": {},
   "outputs": [],
   "source": []
  }
 ],
 "metadata": {
  "kernelspec": {
   "display_name": "Python 3 (ipykernel)",
   "language": "python",
   "name": "python3"
  },
  "language_info": {
   "codemirror_mode": {
    "name": "ipython",
    "version": 3
   },
   "file_extension": ".py",
   "mimetype": "text/x-python",
   "name": "python",
   "nbconvert_exporter": "python",
   "pygments_lexer": "ipython3",
   "version": "3.9.16"
  }
 },
 "nbformat": 4,
 "nbformat_minor": 5
}
