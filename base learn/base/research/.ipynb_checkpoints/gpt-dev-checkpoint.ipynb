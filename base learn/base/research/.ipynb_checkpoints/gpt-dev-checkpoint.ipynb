{
 "cells": [
  {
   "cell_type": "code",
   "execution_count": 1,
   "id": "930f92e0",
   "metadata": {
    "scrolled": true
   },
   "outputs": [
    {
     "name": "stderr",
     "output_type": "stream",
     "text": [
      "--2023-05-04 20:08:36--  https://raw.githubusercontent.com/karpathy/char-rnn/master/data/tinyshakespeare/input.txt\n",
      "Resolving raw.githubusercontent.com (raw.githubusercontent.com)... 2606:50c0:8000::154, 2606:50c0:8003::154, 2606:50c0:8002::154, ...\n",
      "Connecting to raw.githubusercontent.com (raw.githubusercontent.com)|2606:50c0:8000::154|:443... connected.\n",
      "HTTP request sent, awaiting response... 200 OK\n",
      "Length: 1115394 (1,1M) [text/plain]\n",
      "Saving to: 'input.txt.3'\n",
      "\n",
      "     0K .......... .......... .......... .......... ..........  4%  772K 1s\n",
      "    50K .......... .......... .......... .......... ..........  9% 2,64M 1s\n",
      "   100K .......... .......... .......... .......... .......... 13% 1,27M 1s\n",
      "   150K .......... .......... .......... .......... .......... 18% 3,61M 1s\n",
      "   200K .......... .......... .......... .......... .......... 22% 1,59M 1s\n",
      "   250K .......... .......... .......... .......... .......... 27% 2,07M 0s\n",
      "   300K .......... .......... .......... .......... .......... 32% 2,31M 0s\n",
      "   350K .......... .......... .......... .......... .......... 36%  431K 1s\n",
      "   400K .......... .......... .......... .......... .......... 41% 65,6M 0s\n",
      "   450K .......... .......... .......... .......... .......... 45% 88,0M 0s\n",
      "   500K .......... .......... .......... .......... .......... 50%  105M 0s\n",
      "   550K .......... .......... .......... .......... .......... 55%  163M 0s\n",
      "   600K .......... .......... .......... .......... .......... 59%  181M 0s\n",
      "   650K .......... .......... .......... .......... .......... 64%  171M 0s\n",
      "   700K .......... .......... .......... .......... .......... 68%  189M 0s\n",
      "   750K .......... .......... .......... .......... .......... 73%  156M 0s\n",
      "   800K .......... .......... .......... .......... .......... 78%  159M 0s\n",
      "   850K .......... .......... .......... .......... .......... 82%  100M 0s\n",
      "   900K .......... .......... .......... .......... .......... 87%  947K 0s\n",
      "   950K .......... .......... .......... .......... .......... 91% 17,0M 0s\n",
      "  1000K .......... .......... .......... .......... .......... 96% 17,5M 0s\n",
      "  1050K .......... .......... .......... .........            100% 32,7M=0,4s\n",
      "\n",
      "2023-05-04 20:08:39 (2,73 MB/s) - 'input.txt.3' saved [1115394/1115394]\n",
      "\n"
     ]
    }
   ],
   "source": [
    "!wget https://raw.githubusercontent.com/karpathy/char-rnn/master/data/tinyshakespeare/input.txt"
   ]
  },
  {
   "cell_type": "code",
   "execution_count": 2,
   "id": "fb6b112c",
   "metadata": {},
   "outputs": [],
   "source": [
    "with open('input.txt', 'r', encoding='utf-8') as f:\n",
    "    text = f.read()"
   ]
  },
  {
   "cell_type": "code",
   "execution_count": 3,
   "id": "892523bd",
   "metadata": {
    "scrolled": false
   },
   "outputs": [
    {
     "data": {
      "text/plain": [
       "1115394"
      ]
     },
     "execution_count": 3,
     "metadata": {},
     "output_type": "execute_result"
    }
   ],
   "source": [
    "len(text)"
   ]
  },
  {
   "cell_type": "code",
   "execution_count": 4,
   "id": "3031f7f8",
   "metadata": {},
   "outputs": [],
   "source": [
    "## Easy way to encode text\n",
    "\n",
    "def normal_encode(text):\n",
    "    chars = sorted(list(set(text)))\n",
    "    vocab_size = len(chars)\n",
    "    \n",
    "    # create a mapping from characters to integers\n",
    "    stoi = {ch:i for i, ch in enumerate(chars)}\n",
    "    itos = {i:ch for i, ch in enumerate(chars)}\n",
    "    encode = lambda s: [stoi[c] for c in s] # encode string to list of integers, each integer was a charater encoded\n",
    "    decode = lambda l: ''.join([itos[i] for i in l]) # decode list of integers to string \n",
    "\n",
    "    res_encode = encode(text)\n",
    "    res_decode = decode(encode(text))\n",
    "    \n",
    "    return vocab_size, res_encode, res_decode"
   ]
  },
  {
   "cell_type": "code",
   "execution_count": 5,
   "id": "9db59b43",
   "metadata": {},
   "outputs": [],
   "source": [
    "## encode string using tiktoken\n",
    "import tiktoken\n",
    "\n",
    "def tiktoken_encode(text):\n",
    "    enc = tiktoken.get_encoding('gpt2')\n",
    "    vocab_size = enc.n_vocab\n",
    "    \n",
    "    res_encode = enc.encode(text)\n",
    "    res_decode = enc.decode(enc.encode(text))\n",
    "    \n",
    "    return vocab_size, res_encode, res_decode"
   ]
  },
  {
   "cell_type": "code",
   "execution_count": 6,
   "id": "dc52c240",
   "metadata": {},
   "outputs": [],
   "source": [
    "import torch \n",
    "\n",
    "vocab_size, encode, decode = normal_encode(text)\n",
    "# vocab_size, encode, decode = tiktoken_encode(text)\n",
    "\n",
    "data = torch.tensor(encode, dtype=torch.long)\n",
    "# print(data.shape, data.type)\n",
    "# print(data[:1000])"
   ]
  },
  {
   "cell_type": "code",
   "execution_count": 7,
   "id": "0d637b5c",
   "metadata": {},
   "outputs": [],
   "source": [
    "# split up data into train and validation sets\n",
    "n = int(0.9*len(data))\n",
    "train_data = data[:n]\n",
    "val_data = data[n:]"
   ]
  },
  {
   "cell_type": "code",
   "execution_count": 8,
   "id": "e512dd96",
   "metadata": {},
   "outputs": [
    {
     "data": {
      "text/plain": [
       "\"\\nres: tensor([ 5962, 22307,    25,   198,  8421,   356,  5120,   597,  2252])\\nIn chunk of nine charaters have eight individual predictions of position. \\nLike: 5962 with 22307; 5962, 22307 with 25, ... \\nThat's why we plus 1 in each block size\\n\""
      ]
     },
     "execution_count": 8,
     "metadata": {},
     "output_type": "execute_result"
    }
   ],
   "source": [
    "block_size = 8\n",
    "train_data[:block_size+1]\n",
    "\"\"\"\n",
    "res: tensor([ 5962, 22307,    25,   198,  8421,   356,  5120,   597,  2252])\n",
    "In chunk of nine charaters have eight individual predictions of position. \n",
    "Like: 5962 with 22307; 5962, 22307 with 25, ... \n",
    "That's why we plus 1 in each block size\n",
    "\"\"\""
   ]
  },
  {
   "cell_type": "code",
   "execution_count": 9,
   "id": "c3f6d875",
   "metadata": {},
   "outputs": [
    {
     "name": "stdout",
     "output_type": "stream",
     "text": [
      "When input is tensor([18]) the target : 47\n",
      "When input is tensor([18, 47]) the target : 56\n",
      "When input is tensor([18, 47, 56]) the target : 57\n",
      "When input is tensor([18, 47, 56, 57]) the target : 58\n",
      "When input is tensor([18, 47, 56, 57, 58]) the target : 1\n",
      "When input is tensor([18, 47, 56, 57, 58,  1]) the target : 15\n",
      "When input is tensor([18, 47, 56, 57, 58,  1, 15]) the target : 47\n",
      "When input is tensor([18, 47, 56, 57, 58,  1, 15, 47]) the target : 58\n"
     ]
    }
   ],
   "source": [
    "x = train_data[:block_size]\n",
    "y = train_data[1:block_size+1] # target of each positions\n",
    "for index_target in range(block_size):\n",
    "    context = x[:index_target+1]\n",
    "    target = y[index_target]\n",
    "    print(\"When input is {0} the target : {1}\".format(context, target))"
   ]
  },
  {
   "cell_type": "code",
   "execution_count": 10,
   "id": "5d03368d",
   "metadata": {},
   "outputs": [
    {
     "name": "stdout",
     "output_type": "stream",
     "text": [
      "Inputs: tensor([[24, 43, 58,  5, 57,  1, 46, 43],\n",
      "        [44, 53, 56,  1, 58, 46, 39, 58],\n",
      "        [52, 58,  1, 58, 46, 39, 58,  1],\n",
      "        [25, 17, 27, 10,  0, 21,  1, 54]]), shape: torch.Size([4, 8])\n",
      "Targets: tensor([[43, 58,  5, 57,  1, 46, 43, 39],\n",
      "        [53, 56,  1, 58, 46, 39, 58,  1],\n",
      "        [58,  1, 58, 46, 39, 58,  1, 46],\n",
      "        [17, 27, 10,  0, 21,  1, 54, 39]]), shape: torch.Size([4, 8])\n",
      "-----\n"
     ]
    }
   ],
   "source": [
    "torch.manual_seed(1337)\n",
    "block_size = 8 # maximum context length for predictions\n",
    "batch_size = 4 # number of independent sequences which process parallel\n",
    "\n",
    "def get_batch(split):\n",
    "    data = train_data if split=='train' else val_data\n",
    "    ix = torch.randint(len(data) - block_size, (batch_size,))\n",
    "    x = torch.stack([data[i:i+block_size] for i in ix])\n",
    "    y = torch.stack([data[i+1:i+block_size+1] for i in ix])\n",
    "    return x, y\n",
    "\n",
    "xb, yb = get_batch('train')\n",
    "print(\"Inputs: {0}, shape: {1}\".format(xb, xb.shape))\n",
    "print(\"Targets: {0}, shape: {1}\".format(yb, yb.shape))\n",
    "print(\"-----\")\n",
    "\n",
    "for b in range(batch_size): # batch dimension\n",
    "    for t in range(block_size): # time dimension\n",
    "        context = xb[b, :t+1]\n",
    "        target = yb[b, t]\n",
    "#         print(\"When input is {0} the target: {1}\".format(context.tolist(), target))\n",
    "        "
   ]
  },
  {
   "cell_type": "code",
   "execution_count": 11,
   "id": "a88446a0",
   "metadata": {},
   "outputs": [
    {
     "name": "stdout",
     "output_type": "stream",
     "text": [
      "torch.Size([32, 65])\n",
      "tensor(4.8786, grad_fn=<NllLossBackward0>)\n"
     ]
    }
   ],
   "source": [
    "import torch.nn as nn\n",
    "from torch.nn import functional as F\n",
    "torch.manual_seed(1337)\n",
    "\n",
    "class BigramLanguageModel(nn.Module):\n",
    "    \n",
    "    def __init__(self, vocab_size):\n",
    "        super().__init__()\n",
    "        # each token directly reads off the logits for the next token from a lookup table\n",
    "        self.token_embedding_table = nn.Embedding(vocab_size, vocab_size)\n",
    "    \n",
    "    def forward(self, idx, targets=None):\n",
    "        # idx and targets are both (B, T) tensor of integers\n",
    "        logits = self.token_embedding_table(idx) # Batch, Time, Channel (B, T, C)\n",
    "        \n",
    "        if targets is None:\n",
    "            loss = None\n",
    "        else:\n",
    "            B, T, C = logits.shape\n",
    "            logits = logits.view(B*T, C)\n",
    "            targets = targets.view(B*T)\n",
    "            loss = F.cross_entropy(logits, targets)\n",
    "        \n",
    "        return logits, loss\n",
    "    \n",
    "    def generate(self, idx, max_new_tokens):\n",
    "        #idx is (B, T) array of indices in the current context\n",
    "        for _ in range(max_new_tokens):\n",
    "            # get the predictions \n",
    "            logits, loss = self(idx)\n",
    "            # focus only on the last time step\n",
    "            logits = logits[:, -1, :] # becomes (B, C)\n",
    "            # apply softmax to get posibilities\n",
    "            probs = F.soft_max(logits, dim=-1) # (B, C)\n",
    "            # sample from the distribution\n",
    "            idx_next = torch.multinomial(probs, num_samples=1) # (B, 1)\n",
    "            # append sampled index to the running sequence\n",
    "            idx = torch.cat((idx, idx_next), dim=1) # (B, T+1)\n",
    "        return idx\n",
    "    \n",
    "m = BigramLanguageModel(vocab_size)\n",
    "logits, loss = m(xb, yb)\n",
    "print(logits.shape)\n",
    "print(loss)"
   ]
  },
  {
   "cell_type": "code",
   "execution_count": null,
   "id": "1c4acb4a",
   "metadata": {},
   "outputs": [],
   "source": []
  },
  {
   "cell_type": "code",
   "execution_count": null,
   "id": "fb623a82",
   "metadata": {},
   "outputs": [],
   "source": []
  }
 ],
 "metadata": {
  "kernelspec": {
   "display_name": "Python 3 (ipykernel)",
   "language": "python",
   "name": "python3"
  },
  "language_info": {
   "codemirror_mode": {
    "name": "ipython",
    "version": 3
   },
   "file_extension": ".py",
   "mimetype": "text/x-python",
   "name": "python",
   "nbconvert_exporter": "python",
   "pygments_lexer": "ipython3",
   "version": "3.9.16"
  }
 },
 "nbformat": 4,
 "nbformat_minor": 5
}
